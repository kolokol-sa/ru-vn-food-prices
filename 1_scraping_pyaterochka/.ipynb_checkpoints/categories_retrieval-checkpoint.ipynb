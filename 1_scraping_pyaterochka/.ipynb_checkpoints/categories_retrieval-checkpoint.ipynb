{
 "cells": [
  {
   "cell_type": "markdown",
   "id": "667ac600-e1b2-400f-b40b-b0614522a4f2",
   "metadata": {},
   "source": [
    "Code below is complete"
   ]
  },
  {
   "cell_type": "code",
   "execution_count": 17,
   "id": "3e19cd79-401d-4025-83e8-ae16b314863c",
   "metadata": {},
   "outputs": [],
   "source": [
    "import requests\n",
    "import json\n",
    "import time\n",
    "import random\n",
    "import pandas as pd\n",
    "\n",
    "# define constants for requests\n",
    "\n",
    "URL = \"https://5d.5ka.ru/api/catalog/v1/stores/Y233/categories?mode=delivery&include_subcategories=1\"\n",
    "USER_AGENT = \"Mozilla/5.0 (Windows NT 10.0; Win64; x64) AppleWebKit/537.36 (KHTML, like Gecko) Chrome/132.0.0.0 Safari/537.36\"\n",
    "\n",
    "HEADERS = {\n",
    "    \"user-agent\": USER_AGENT,\n",
    "    \"origin\": \"https://5ka.ru\"\n",
    "}"
   ]
  },
  {
   "cell_type": "code",
   "execution_count": 18,
   "id": "18bbcac7-5b38-42dd-89ec-bc0c3e72f536",
   "metadata": {},
   "outputs": [],
   "source": [
    "# fetch the raw categories data\n",
    "\n",
    "def fetch_categories():\n",
    "    \n",
    "    response = requests.get(URL, headers=HEADERS) # get the data\n",
    "    categories = json.loads(response.text) # convert into a dictionary\n",
    "    \n",
    "    return categories"
   ]
  },
  {
   "cell_type": "code",
   "execution_count": 19,
   "id": "72b0502d-8a52-4d96-9767-7d66253d81d4",
   "metadata": {},
   "outputs": [],
   "source": [
    "def clean_categories(categories):\n",
    "\n",
    "    cleaned_categories = []\n",
    "    products_count = 0\n",
    "\n",
    "    # go through the raw data and select only the necessary fields\n",
    "    for category in categories:    # select the broad category, save its id and name\n",
    "        cleaned_categories.append({\n",
    "            \"id\": category[\"id\"],\n",
    "            \"name\": category[\"name\"],\n",
    "            \"parent_id\": None,\n",
    "            \"count\": category[\"products_count\"]\n",
    "        })\n",
    "        for subcategory in category[\"subcategories\"]:    # go through all subcategories and save them too, specify parent_category\n",
    "            cleaned_categories.append({\n",
    "                \"id\": subcategory[\"id\"],\n",
    "                \"name\": subcategory[\"name\"],\n",
    "                \"parent_id\": category[\"id\"]\n",
    "            })\n",
    "\n",
    "    return cleaned_categories"
   ]
  },
  {
   "cell_type": "code",
   "execution_count": 23,
   "id": "79fbb1b1-0dea-46f8-b747-aef21671709c",
   "metadata": {},
   "outputs": [
    {
     "name": "stdout",
     "output_type": "stream",
     "text": [
      "Total number of categories: 457\n",
      "           id                      name parent_id\n",
      "0     73C2338               Готовая еда      None\n",
      "1    73C10301           Горячие напитки   73C2338\n",
      "2     73C9714  Блинчики, сырники и каши   73C2338\n",
      "3     73C9715        Сэндвичи и бургеры   73C2338\n",
      "4     73C6771              Суши и роллы   73C2338\n",
      "..        ...                       ...       ...\n",
      "452   73C9959      Гигиенические помады   73C9953\n",
      "453   73C9960                     Маски   73C9953\n",
      "454  73C12099            Витамины, БАДы   73C9953\n",
      "455   73C7133           Бытовая техника      None\n",
      "456   73C7134                   Чайники   73C7133\n",
      "\n",
      "[457 rows x 3 columns]\n"
     ]
    }
   ],
   "source": [
    "raw_categories = fetch_categories() # fetch categories\n",
    "cleaned_categories = clean_categories(raw_categories) # select only ids and names\n",
    "categories = pd.DataFrame(cleaned_categories) # convert into a DataFrame\n",
    "\n",
    "print('Total number of categories:', len(cleaned_categories))\n",
    "print(categories)\n",
    "\n",
    "categories.to_csv('categories.csv', index=False) # save to CSV"
   ]
  }
 ],
 "metadata": {
  "kernelspec": {
   "display_name": "Python 3 (ipykernel)",
   "language": "python",
   "name": "python3"
  },
  "language_info": {
   "codemirror_mode": {
    "name": "ipython",
    "version": 3
   },
   "file_extension": ".py",
   "mimetype": "text/x-python",
   "name": "python",
   "nbconvert_exporter": "python",
   "pygments_lexer": "ipython3",
   "version": "3.10.11"
  }
 },
 "nbformat": 4,
 "nbformat_minor": 5
}
