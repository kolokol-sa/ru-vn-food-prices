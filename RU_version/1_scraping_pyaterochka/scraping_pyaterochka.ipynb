{
 "cells": [
  {
   "cell_type": "markdown",
   "id": "0e28f2fd-4674-4c58-b60c-6dc6ac08ed94",
   "metadata": {},
   "source": [
    "### 1. Подготовка"
   ]
  },
  {
   "cell_type": "markdown",
   "id": "433a602a-f8ab-43bd-a850-f7f1ff2733bf",
   "metadata": {},
   "source": [
    "Начинаем с импорта необходимых библиотек и определения ключевых параметров для сбора данных о товарах с [онлайн-магазина «Пятёрочки»](https://5ka.ru/). Сюда входят базовые URL-адреса для отправки запросов к API магазина, заголовки, имитирующие запрос из браузера, а также текущая дата, чтобы маркировать файлы."
   ]
  },
  {
   "cell_type": "code",
   "execution_count": null,
   "id": "357155d0-4f45-48b3-86a7-9f4486be3351",
   "metadata": {},
   "outputs": [],
   "source": [
    "import requests\n",
    "import json\n",
    "import time\n",
    "import random\n",
    "import pandas as pd\n",
    "from datetime import date\n",
    "\n",
    "# базовые URL-адреса и заголовки для запросов к сайту\n",
    "BASE_URL = \"https://5d.5ka.ru/api/catalog/v2/stores/Y233/categories/\"\n",
    "CATEGORIES_URL = \"https://5d.5ka.ru/api/catalog/v2/stores/Y233/categories?mode=delivery&include_subcategories=1\"\n",
    "USER_AGENT = \"Mozilla/5.0 (Windows NT 10.0; Win64; x64) AppleWebKit/537.36 (KHTML, like Gecko) Chrome/132.0.0.0 Safari/537.36\"\n",
    "CHECK_DATE = date.today() # текущая дата для маркировки файлов\n",
    "\n",
    "HEADERS = {\n",
    "    \"user-agent\": USER_AGENT,\n",
    "    \"origin\": \"https://5ka.ru\"\n",
    "}"
   ]
  },
  {
   "cell_type": "markdown",
   "id": "2000dbaa-0343-4f93-9d7f-45f5dcb9b55a",
   "metadata": {},
   "source": [
    "### 2. Веб-скрейпинг"
   ]
  },
  {
   "cell_type": "markdown",
   "id": "8015df7e-edc1-4c11-ba48-01b7703289bd",
   "metadata": {},
   "source": [
    "Чтобы получить данные о товарах с сайта «Пятёрочка», мы выполняем следующие шаги: сначала получаем список категорий, затем собираем данные о товарах по каждой категории, очищаем сырые данные и сохраняем результат в структурированном виде."
   ]
  },
  {
   "cell_type": "markdown",
   "id": "53e88bbd-4ca5-45e3-bd5a-8c40685f63da",
   "metadata": {},
   "source": [
    "#### 2.1. Получение категорий"
   ]
  },
  {
   "cell_type": "markdown",
   "id": "b228d1f5-454e-4ce5-be0a-b4962befa975",
   "metadata": {},
   "source": [
    "Поскольку товары сгруппированы по категориям, сначала необходимо получить список всех доступных категорий и подкатегорий. Этот список запрашивается со специального адреса, используемого для отображения каталога на сайте. Каждая подкатегория содержит уникальный буквенно-цифровой идентификатор, который позже используется для получения списка соответствующих товаров.\n",
    "\n",
    "Мы определяем функцию, которая обращается к этому адресу, извлекает только нужные поля (*id*, *name* и *parent_id*) и возвращает очищенный список подкатегорий."
   ]
  },
  {
   "cell_type": "code",
   "execution_count": null,
   "id": "6fe956d8-332a-4772-98b8-deb105f60b27",
   "metadata": {},
   "outputs": [],
   "source": [
    "def fetch_categories():\n",
    "    \n",
    "    response = requests.get(CATEGORIES_URL, headers=HEADERS) # получаем данные о категориях от API\n",
    "    raw_categories = json.loads(response.text) # преобразуем JSON-ответ в список словарей с категориями\n",
    "    \n",
    "    cleaned_categories = []\n",
    "    \n",
    "    # проходим по исходным данным и выбираем только нужные поля\n",
    "    for category in raw_categories:    # проходим по каждой категории верхнего уровня\n",
    "        for subcategory in category[\"categories\"]:    # перебираем все подкатегории и сохраняем их, указывая родительскую категорию\n",
    "            cleaned_categories.append({\n",
    "                \"id\": subcategory[\"id\"], # идентификатор, необходимый для последующей загрузки товаров\n",
    "                \"name\": subcategory[\"name\"], # название подкатегории (для справки)\n",
    "                \"parent_id\": category[\"id\"] # идентификатор родительской категории (для справки)\n",
    "            })\n",
    "\n",
    "    return cleaned_categories"
   ]
  },
  {
   "cell_type": "markdown",
   "id": "af8203c8-8ca0-4d68-87ca-32b98668c827",
   "metadata": {},
   "source": [
    "Мы получаем все доступные категории и сохраняем их в CSV-файл — чтобы данные было удобно просматривать и при необходимости повторно использовать."
   ]
  },
  {
   "cell_type": "code",
   "execution_count": null,
   "id": "3d945e47-de47-4533-8aa7-648c53610ded",
   "metadata": {},
   "outputs": [],
   "source": [
    "categories = fetch_categories()\n",
    "# categories = categories[83:] # эту строку можно использовать, чтобы продолжить сбор данных с определённого места в случае ошибки\n",
    "total_categories_count = len(categories) # для отображения прогресса при сборе данных\n",
    "\n",
    "categories_df = pd.DataFrame(categories)\n",
    "categories_df.to_csv(f'categories-{CHECK_DATE}-pyaterochka.csv', index=False)"
   ]
  },
  {
   "cell_type": "code",
   "execution_count": null,
   "id": "2befcb3b-d13b-4a7a-83bc-43b197b799e9",
   "metadata": {},
   "outputs": [],
   "source": [
    "# необязательный промежуточный вывод списка категорий\n",
    "# with pd.option_context('display.max_rows', None, 'display.max_colwidth', None):\n",
    "#     display(categories_df)"
   ]
  },
  {
   "cell_type": "markdown",
   "id": "4326c5af-6c00-4075-9f35-7a0badf36a6e",
   "metadata": {},
   "source": [
    "#### 2.2. Получение исходных данных о товарах"
   ]
  },
  {
   "cell_type": "markdown",
   "id": "9571c725-4169-46d1-bd8e-d84626af6e39",
   "metadata": {},
   "source": [
    "Сайт «Пятёрочки» динамически подгружает данные о товарах с помощью GET-запросов, привязанных к конкретным кодам категорий. У каждой категории есть уникальный буквенно-цифровой идентификатор, который передаётся в URL при запросе товаров. Сначала страница загружает 12 товаров, а затем постепенно увеличивает их количество (например, 24, 36, 48...) по мере прокрутки.   \n",
    "Чтобы воспроизвести это поведение в нашем скрипте, мы увеличиваем параметр `limit` в каждом запросе и каждый раз пересохраняем пополняющийся список товаров, пока не перестанут появляться новые позиции. Между запросами добавляется случайная задержка, чтобы избежать ограничения по частоте запросов или блокировки.\n",
    "\n",
    "На этом этапе мы получаем сырые данные о товарах в формате JSON, сохраняя их в том виде, в котором они представлены на сайте."
   ]
  },
  {
   "cell_type": "code",
   "execution_count": null,
   "id": "edff0bf8-4b3d-4911-9e12-59047912b228",
   "metadata": {
    "scrolled": true
   },
   "outputs": [],
   "source": [
    "def fetch_products(category_id):\n",
    "    \n",
    "    current_limit = 0\n",
    "    total_products = 0\n",
    "    products = []\n",
    "    \n",
    "    while total_products >= current_limit:\n",
    "        \n",
    "        time.sleep(random.uniform(1, 5)) # случайная задержка, чтобы избежать блокировки со стороны сервера\n",
    "        \n",
    "        current_limit += 12 # увеличиваем лимит, чтобы загрузить больше товаров\n",
    "        url = f'{BASE_URL}{category_id}/products?mode=delivery&include_restrict=false&limit={current_limit}'\n",
    "        \n",
    "        response = requests.get(url, headers=HEADERS) # получаем данные о товарах для текущей категории и лимита\n",
    "        response_data = json.loads(response.text) # преобразуем ответ в словарь\n",
    "        \n",
    "        products = response_data[\"products\"] # извлекаем только список товаров\n",
    "        total_products = len(products) # сохраняем общее количество товаров на текущий момент\n",
    "        \n",
    "        print(f'{len(products)}..', end='') # индикатор прогресса — выводим, сколько товаров получено на текущем шаге\n",
    "\n",
    "    return products    "
   ]
  },
  {
   "cell_type": "markdown",
   "id": "40da239f-5281-47b2-ba54-afa4531baf12",
   "metadata": {},
   "source": [
    "#### 2.3. Очистка данных о товарах"
   ]
  },
  {
   "cell_type": "markdown",
   "id": "4db589ac-c31c-4ccf-b79e-b806008b596b",
   "metadata": {},
   "source": [
    "Далее мы определяем функцию, которая извлекает из сырых данных только необходимые поля:\n",
    "\n",
    "- Идентификатор категории (для справки)\n",
    "- Название товара\n",
    "- Единица измерения\n",
    "- Обычная и скидочная цена\n",
    "- Уточнение по цене (например, вес нетто или единица цены)\n",
    "\n",
    "В итоге получается очищенный список товаров, готовый к сохранению или дальнейшему анализу."
   ]
  },
  {
   "cell_type": "code",
   "execution_count": null,
   "id": "2a8e9901-c591-41da-938b-3cf9f5a76030",
   "metadata": {},
   "outputs": [],
   "source": [
    "def clean_product_data(category, raw_products):\n",
    "\n",
    "    cleaned_products = []\n",
    "\n",
    "    # проходим по сырым данным и выбираем только нужные поля\n",
    "    for product in raw_products:\n",
    "        cleaned_products.append({\n",
    "            \"category_id\": category, # идентификатор категории\n",
    "            \"name\": product[\"name\"], # название товара\n",
    "            \"unit_of_measurement\": product[\"uom\"], # единица измерения\n",
    "            \"price_reg\": product[\"prices\"][\"regular\"], # обычная цена\n",
    "            \"price_disc\": product[\"prices\"][\"discount\"], # скидочная цена\n",
    "            \"pricing_clarification\": product[\"property_clarification\"] # уточнение по цене\n",
    "        })\n",
    "\n",
    "    return cleaned_products"
   ]
  },
  {
   "cell_type": "markdown",
   "id": "723adc64-dea5-498d-b3c2-ccdd21677fd5",
   "metadata": {},
   "source": [
    "#### 2.4. Сводим все вместе"
   ]
  },
  {
   "cell_type": "markdown",
   "id": "926cfd69-5e44-47e2-9b8a-fecc03d60e68",
   "metadata": {},
   "source": [
    "В основном цикле мы:\n",
    "\n",
    "1. Проходим по выбранным категориям,\n",
    "2. Получаем и очищаем данные о товарах для каждой из них,\n",
    "3. Добавляем очищенные данные из каждой категории в общий CSV-файл, собирая полный набор данных.\n",
    "\n",
    "Для удобства отслеживания в процессе выводится количество загруженных товаров по каждой категории. Чтобы избежать блокировок и ограничений по частоте запросов, между запросами добавляется небольшая случайная задержка. В имя файла включается текущая дата (`CHECK_DATE`), чтобы зафиксировать, когда данные были выгружены."
   ]
  },
  {
   "cell_type": "code",
   "execution_count": null,
   "id": "cc3fd336-2477-43a0-9b3d-7e0cde4bbfcd",
   "metadata": {
    "scrolled": true
   },
   "outputs": [],
   "source": [
    "fetched_categories_count = 0    # счётчик категорий для отслеживания прогресса загрузки\n",
    "\n",
    "# создаём файл с заголовком таблицы для записи данных\n",
    "products_df = pd.DataFrame(columns=[\"category_id\", \"name\", \"unit_of_measurement\", \"price_reg\", \"price_disc\", \"pricing_clarification\"])\n",
    "products_df.to_csv(f'scraped_products-{CHECK_DATE}-pyaterochka.csv', index=False, mode='w')\n",
    "\n",
    "for category in categories:\n",
    "    \n",
    "    raw_products = fetch_products(category[\"id\"]) # загружаем товары\n",
    "    new_products = clean_product_data(category[\"id\"], raw_products) # очищаем данные, оставляя только нужные поля\n",
    "\n",
    "    products_df = pd.DataFrame(new_products)\n",
    "    products_df.to_csv(f'scraped_products-{CHECK_DATE}-pyaterochka.csv', index=False, mode='a', header=False) # добавляем данные в CSV\n",
    "\n",
    "    fetched_categories_count += 1\n",
    "    print(f'Категория {category[\"id\"]} обработана, загружено {fetched_categories_count} из {total_categories_count} категорий')\n",
    "    \n",
    "    time.sleep(random.uniform(1, 5))\n",
    "\n",
    "print(f'Загрузка завершена. Результаты сохранены в файле scraped_products-{CHECK_DATE}-pyaterochka.csv')"
   ]
  },
  {
   "cell_type": "markdown",
   "id": "f8eafb66-2698-406a-86f9-376deed9a027",
   "metadata": {},
   "source": [
    "### 3. Фильтрация и нормализация данных о товарах"
   ]
  },
  {
   "cell_type": "markdown",
   "id": "431a3748-d97c-48da-af36-afd938909fe8",
   "metadata": {},
   "source": [
    "После сбора и очистки исходных данных о товарах переходим к фильтрации — оставляем только те товары, которые подходят для сравнения. Этот этап состоит из нескольких шагов:"
   ]
  },
  {
   "cell_type": "markdown",
   "id": "9b0c7228-31ef-4e1f-8aa7-0dec7bab8734",
   "metadata": {},
   "source": [
    "#### 3.1. Первичная обработка"
   ]
  },
  {
   "cell_type": "markdown",
   "id": "5976ec20-40fc-4da2-a1c5-47b4fff86970",
   "metadata": {},
   "source": [
    "Начинаем с загрузки ранее сохранённых данных о товарах и категориях, удаляем ненужные поля. Для удобства дальнейшей работы упрощаем названия полей. Также убираем точные дубли — они могут появиться, если один и тот же товар был в нескольких категориях."
   ]
  },
  {
   "cell_type": "code",
   "execution_count": null,
   "id": "81fbb8a0-7e8e-4fc1-83c0-e53cd4ba0c06",
   "metadata": {},
   "outputs": [],
   "source": [
    "import pandas as pd\n",
    "import re\n",
    "\n",
    "categories = pd.read_csv('categories-2025-03-03-pyaterochka.csv')\n",
    "products_original = pd.read_csv('scraped_products-2025-03-03-complete.csv')\n",
    "\n",
    "# удаляем ненужные поля и упрощаем названия\n",
    "products = products_original.drop(['category_id', 'price_disc', 'unit_of_measurement'], axis=1) # удаляем поля category_id, price_disc\n",
    "                                                                                                # и unit_of_measurement\n",
    "products = products.rename(columns={'price_reg': 'price', 'pricing_clarification': 'pricing_unit'}) # переименовываем ценовые поля для удобства\n",
    "products = products.drop_duplicates() # удаляем дубли"
   ]
  },
  {
   "cell_type": "markdown",
   "id": "a317c30f-a8e0-459c-ba82-f1506b65f47a",
   "metadata": {},
   "source": [
    "#### 3.2. Фильтрация товаров по типу"
   ]
  },
  {
   "cell_type": "markdown",
   "id": "babdb703-fbe7-4900-a49c-8642473ab0e7",
   "metadata": {},
   "source": [
    "Чтобы выбрать из набора только релевантные для сравнения товары, мы создаём словарь с типами продуктов и соответствующими регулярными выражениями. Каждое выражение выбирает базовую форму продукта, исключая вариации, которые не входят в сферу нашего анализа.\n",
    "\n",
    "> **Примечание:** приведенные здесь регулярные выражения не универсальны и подобраны под конкретный набор данных."
   ]
  },
  {
   "cell_type": "code",
   "execution_count": null,
   "id": "aab2c9c2-2bff-45e8-b7a3-dac81a527e16",
   "metadata": {},
   "outputs": [],
   "source": [
    "product_regex_map = {\n",
    "    'rice': r'(^|^\")рис\\b',\n",
    "    'bread': r'(^хлеб\\b|^багет\\b|^батон\\b)(?!.*(чесн|заморож))', # выбирает \"хлеб\", \"багет\", или \"батон\"\n",
    "                                                                 # но исключает \"багет с чесноком\" или \"багет замороженный\"\n",
    "    'chicken_fillet': r'^филе\\b.*(кур|цыпл)(?!.*запеч)',\n",
    "    'pork_leg': r'^окорок\\b.*свин',\n",
    "    'egg': r'^яйцо.*курин',\n",
    "    'cucumber': r'^огур(цы|ец)(?!.*(солен|маринован))', # выбирает \"огурец\" или \"огурцы\", но исключает \"огурцы соленые\" или \"огурцы маринованные\"\n",
    "    'carrot': r'^морковь(?!.*корей)',\n",
    "    'onion': r'^лук.*реп(?!.*зелен)',\n",
    "    'tomato': r'^томаты(?!.*(сок|очищ|маринован|вялен|солен))',\n",
    "    'cabbage': r'^капуста\\b.*белокоч',\n",
    "    'eggplant': r'^баклажаны?($|.*теплич)',\n",
    "    'banana': r'^банан',\n",
    "    'orange': r'^апельсин',\n",
    "    'milk': r'^молоко(?!.*(сгущ|сух))',\n",
    "    'yogurt': r'^йогурт\\b(?!.*питье)', # выбирает \"йогурт\", но исключает \"йогурт питьевой\"\n",
    "    'condensed_milk': r'(^молоко.*сгущ|^сгущ)(?!.*(варен|какао|шокол))',\n",
    "    'green_tea': r'^чай.* зел(?!.*(порош|л$))',\n",
    "    'black_tea': r'^чай.* черн(?!.*л$)',\n",
    "    'ground_coffee': r'^кофе(?!.*(капсул|раствор)).*молот',\n",
    "    'sugar': r'^сахар\\b(?!.*ванил)',\n",
    "    'salt': r'^соль(?!.*(розов|посуд|чесн|ванн|спец))',\n",
    "    'sunflower_oil': r'^масло\\b.*подсолн(?!.*добавл)',\n",
    "    'water': r'^вода(?!.*(малин|лимон)).*негаз',\n",
    "    'buckwheat': r'(^крупа\\b.*гречн|^гречка\\b)(?!.*(\\bпшен|\\bкиноа))',\n",
    "    'spaghetti': r'(^макароны.*спагетти|^спагетти\\b)(?!.*(заморож|кукуруз))',\n",
    "    'rice_noodles': r'(^лапша|^вермишель).*(фунчоз)',\n",
    "    'tofu': r'^тофу\\b',\n",
    "    'mango': r'^манго\\b(?!.*(суш|заморож))'\n",
    "}\n",
    "product_regex_list = '|'.join(product_regex_map.values()) # объединяем все регулярные выражения в одно, используя оператор OR (|)\n",
    "\n",
    "# фильтруем товары, названия которых соответствуют одному из выбранных типов продуктов\n",
    "filtered_products = products.loc[products.name.str.contains(product_regex_list, case=False, regex=True)]"
   ]
  },
  {
   "cell_type": "markdown",
   "id": "3ca5a5e4-07e4-403e-b1d6-0ff55f96aac3",
   "metadata": {},
   "source": [
    "#### 3.3. Присвоение меток"
   ]
  },
  {
   "cell_type": "markdown",
   "id": "96ded9e9-f1a1-4297-afee-77608dfc29e8",
   "metadata": {},
   "source": [
    "Каждому отфильтрованному товару присваивается метка с типом продукта на основе совпадения по регулярному выражению. Также для удобства отслеживания указывается название супермаркета («Pyaterochka»)."
   ]
  },
  {
   "cell_type": "code",
   "execution_count": null,
   "id": "0b610ef6-6b31-4a16-ad2a-c5d96f6d0367",
   "metadata": {
    "scrolled": true
   },
   "outputs": [],
   "source": [
    "def assign_product_type(row):\n",
    "    name = row['name']\n",
    "    for product_type, regex in product_regex_map.items():\n",
    "        match = re.search(regex, name, flags=re.IGNORECASE)\n",
    "        if match:\n",
    "            return product_type\n",
    "    return None\n",
    "\n",
    "filtered_products = filtered_products.copy()  # создаём копию, чтобы избежать предупреждений при добавлении новых полей через .loc\n",
    "filtered_products.loc[:,'product_type'] = filtered_products.apply(assign_product_type, axis=1)\n",
    "filtered_products.loc[:,'supermarket'] = 'Pyaterochka'\n",
    "\n",
    "# необязательный промежуточный вывод списка отфильтрованных товаров\n",
    "# with pd.option_context('display.max_rows', None, 'display.max_colwidth', None):\n",
    "#     display(filtered_products)"
   ]
  },
  {
   "cell_type": "markdown",
   "id": "43ad540b-f6fd-4289-87e0-523ec4065008",
   "metadata": {},
   "source": [
    "#### 3.4. Извлечение и нормализация единиц измерения"
   ]
  },
  {
   "cell_type": "markdown",
   "id": "004f26a5-561e-4f74-91d4-a7b64d9e6cd1",
   "metadata": {},
   "source": [
    "Разные единицы товаров отличаются по количеству, весу или объёмы. Чтобы сравнение было корректным, мы извлекаем нужную информацию из названия товара или из поля с уточнением цены и рассчитываем нормализованные показатели — цену за килограмм, литр или за штуку.\n",
    "\n",
    "- Вес в граммах\n",
    "- Количество штук (в частности, яиц)\n",
    "- Объём в миллилитрах\n",
    "\n",
    "Каждое из значений извлекается по шаблону (через регулярное выражение). Не все товары содержат все эти значения, поэтому соответствующие колонки с нормализованными ценами (*price_kg*, *price_lit*, *price_unit*) могут остаться пустыми для некоторых товаров."
   ]
  },
  {
   "cell_type": "code",
   "execution_count": null,
   "id": "a737994f-0f7c-44b8-b237-17d7fc3c96e2",
   "metadata": {
    "scrolled": true
   },
   "outputs": [],
   "source": [
    "def extract_weight(row):\n",
    "    \"\"\"Извлекает общий вес в граммах из названия товара или уточнения цены.\n",
    "    Поддерживает как одиночный вес, так и формат с несколькими порциями (например, '5x100г').\n",
    "    \"\"\"\n",
    "    \n",
    "    name, pricing_unit = row['name'], row['pricing_unit']\n",
    "\n",
    "    # формат с несколькими порциями (например, 5x100г)\n",
    "    match = re.search(r'(\\d+)(x|х)(\\d+|\\d+[.]\\d+)\\s?г', name) # выбирает (число) х (число) г\n",
    "    if match:\n",
    "        portion, per_portion = map(float, match.group(1,3)) # извлекаем количество порций и вес каждой\n",
    "        return portion * per_portion # возвращаем общий вес\n",
    "    # одиночный вес (в граммах или килограммах)\n",
    "    match = re.search(r'(\\d+|\\d+[.]\\d+)\\s?(г|кг)', name)\n",
    "    if match:\n",
    "        weight = float(match.group(1))\n",
    "        unit = match.group(2)\n",
    "        return weight * 1000 if unit == 'кг' else weight # преобразуем килограммы в граммы\n",
    "    # если в названии ничего нет, проверяем pricing_unit\n",
    "    match = re.search(r'(\\d+|\\d+[.]\\d+)\\s?(г|кг)', pricing_unit)\n",
    "    if match:\n",
    "        weight = float(match.group(1))\n",
    "        unit = match.group(2)\n",
    "        return weight * 1000 if unit == 'кг' else weight\n",
    "\n",
    "    return None  # если ничего не найдено\n",
    "\n",
    "# следующие две функции работают по той же логике, что и extract_weight, но для штук и миллилитров\n",
    "def extract_number_of_units(row):\n",
    "    \"\"\"Извлекает количество единиц ('шт') из названия товара или уточнения цены.\"\"\"\n",
    "    \n",
    "    name, pricing_unit = row['name'], row['pricing_unit']\n",
    "\n",
    "    # проверяем название\n",
    "    match = re.search(r'(\\d+)\\s?шт', name)\n",
    "    if match:\n",
    "        number_of_units = int(match.group(1))\n",
    "        return number_of_units\n",
    "    # проверяем pricing_unit\n",
    "    match = re.search(r'(\\d+)\\s?шт', pricing_unit)\n",
    "    if match:\n",
    "        number_of_units = int(match.group(1))\n",
    "        return number_of_units\n",
    "\n",
    "    return None  # если ничего не найдено\n",
    "\n",
    "def extract_volume(row):\n",
    "    \"\"\"Извлекает общий объем в миллилитрах из названия товара или уточнения цены.\n",
    "    Поддерживает как одиночный объем, так и групповую упаковку (например, '5x100мл').\n",
    "    \"\"\"\n",
    "    \n",
    "    name, pricing_unit = row['name'], row['pricing_unit']\n",
    "\n",
    "    # формат с несколькими порциями (например, 5x100мл)\n",
    "    match = re.search(r'(\\d+)(x|х)(\\d+|\\d+[.]\\d+)\\s?мл', name)\n",
    "    if match:\n",
    "        portion, per_portion = map(float, match.group(1,3))\n",
    "        return portion * per_portion\n",
    "    # одиночный объем (в литрах или миллилитрах)\n",
    "    match = re.search(r'(\\d+|\\d+[.]\\d+)\\s?(мл|л\\b)', name)\n",
    "    if match:\n",
    "        volume = float(match.group(1))\n",
    "        unit = match.group(2)\n",
    "        return volume * 1000 if unit == 'л' else volume\n",
    "    # проверяем pricing_unit\n",
    "    match = re.search(r'(\\d+|\\d+[.]\\d+)\\s?(мл|л\\b)', pricing_unit)\n",
    "    if match:\n",
    "        volume = float(match.group(1))\n",
    "        unit = match.group(2)\n",
    "        return volume * 1000 if unit == 'л' else volume\n",
    "\n",
    "    return None  # если ничего не найдено\n",
    "\n",
    "filtered_products = filtered_products.copy()  # пересоздаем датафрейм\n",
    "\n",
    "# вычисляем нормализованные цены\n",
    "filtered_products.loc[:,'weight'] = filtered_products.apply(extract_weight, axis=1)  # столбец с весом в граммах\n",
    "filtered_products.loc[:,'price_kg'] = filtered_products.price / filtered_products.weight * 1000   # столбец с ценой за кг\n",
    "\n",
    "filtered_products.loc[:,'number_of_units'] = filtered_products.apply(extract_number_of_units, axis=1)  # столбец с количеством штук\n",
    "filtered_products.loc[:,'price_unit'] = filtered_products.price / filtered_products.number_of_units   # столбец с ценой за штуку\n",
    "\n",
    "filtered_products.loc[:,'volume'] = filtered_products.apply(extract_volume, axis=1)  # столбец с объемом в мл\n",
    "filtered_products.loc[:,'price_lit'] = filtered_products.price / filtered_products.volume * 1000   # столбец с ценой за литр\n",
    "\n",
    "# необязательный промежуточный вывод\n",
    "# with pd.option_context('display.max_rows', None, 'display.max_colwidth', None):\n",
    "#     display(filtered_products)"
   ]
  },
  {
   "cell_type": "markdown",
   "id": "091b0cb5-c194-4e11-b743-e47e06f45650",
   "metadata": {},
   "source": [
    "#### 3.5. Сохранение финального отфильтрованного набора данных"
   ]
  },
  {
   "cell_type": "markdown",
   "id": "77c01a4b-d3e3-4342-8843-ef0fab94114c",
   "metadata": {},
   "source": [
    "Наконец, отфильтрованный и дополненный набор данных сохраняется в новый CSV-файл для дальнейшего анализа."
   ]
  },
  {
   "cell_type": "code",
   "execution_count": null,
   "id": "2ed0475b-0eae-43d8-8d4d-62324e3fbf57",
   "metadata": {},
   "outputs": [],
   "source": [
    "filtered_products.to_csv(f'filtered_products-2025-03-03-pyaterochka.csv')"
   ]
  }
 ],
 "metadata": {
  "kernelspec": {
   "display_name": "Python 3 (ipykernel)",
   "language": "python",
   "name": "python3"
  },
  "language_info": {
   "codemirror_mode": {
    "name": "ipython",
    "version": 3
   },
   "file_extension": ".py",
   "mimetype": "text/x-python",
   "name": "python",
   "nbconvert_exporter": "python",
   "pygments_lexer": "ipython3",
   "version": "3.10.11"
  }
 },
 "nbformat": 4,
 "nbformat_minor": 5
}
