{
 "cells": [
  {
   "cell_type": "markdown",
   "id": "f5d9165f-a0b9-4890-a69f-daa27d6534f8",
   "metadata": {},
   "source": [
    "### 1. Подготовка"
   ]
  },
  {
   "cell_type": "markdown",
   "id": "117f16b9-a9a2-4631-9560-26056a05e8c4",
   "metadata": {},
   "source": [
    "Чтобы подготовиться к сбору данных о товарах из [онлайн-магазина Ленты](https://lenta.com/), импортируем необходимые библиотеки и задаём ключевые параметры для работы с API: базовый URL для получения категорий, текущую дату для отслеживания и заголовки запроса. Словарь HEADERS содержит минимальный набор заголовков, необходимых для получения корректного ответа от API Ленты. Этот набор был определён экспериментально."
   ]
  },
  {
   "cell_type": "code",
   "execution_count": 1,
   "id": "357155d0-4f45-48b3-86a7-9f4486be3351",
   "metadata": {},
   "outputs": [],
   "source": [
    "import requests\n",
    "import json\n",
    "import time\n",
    "import random\n",
    "import pandas as pd\n",
    "from datetime import date\n",
    "\n",
    "# задаём базовый URL и заголовки для запросов к сайту\n",
    "CATEGORIES_URL = \"https://lenta.com/api-gateway/v1/catalog/categories?timestamp=\"\n",
    "CHECK_DATE = date.today() # текущая дата для маркировки файлов\n",
    "\n",
    "HEADERS = {\n",
    "    'DeviceID': '42b24bb8-650a-f3a7-fa8d-593e40b478d4',\n",
    "    'Experiments': ('exp_recommendation_cms.true, exp_apigw_purchase.test, exp_lentapay.test, exp_omni_price.test, '\n",
    "                    'exp_profile_bell.test, exp_newui_cancel_order.test, exp_newui_history_active_action.test_stars, '\n",
    "                    'exp_comment_picker_and_courier.test, exp_general_editing_page.test, exp_cl_omni_support.test, '\n",
    "                    'exp_cl_omni_authorization.test, exp_onboarding_sbp.default, exp_fullscreen.test, exp_profile_login.false, '\n",
    "                    'exp_new_notifications_show_unauthorized.test, exp_assembly_cost_location.cart, exp_search_bottom.default, '\n",
    "                    'exp_onboarding_editing_order.test, exp_cart_new_carousel.default, exp_newui_cart_cancel_editing.test, '\n",
    "                    'exp_newui_cart_button.test, exp_new_promov3., exp_sbp_enabled.test, exp_new_my_goods.test, exp_ui_catalog.test, '\n",
    "                    'exp_search_out_of_stock.default, exp_profile_settings_email.default, exp_cl_omni_refusalprintreceipts.test, '\n",
    "                    'exp_cl_omni_refusalprintcoupons.test, exp_accrual_history.test, exp_personal_recommendations.control, '\n",
    "                    'exp_newui_chips.test, exp_loyalty_categories.test, exp_growthbooks_aa.OFF, exp_test_ch_web.def, '\n",
    "                    'exp_search_suggestions_popular_sku.default, exp_cancel_subscription.test_2, exp_manage_subscription.control, '\n",
    "                    'exp_cl_new_csi.default, exp_cl_new_csat.default, exp_delivery_price_info.default, exp_personal_promo_navigation.test, '\n",
    "                    'exp_web_feature_test.true, exp_interval_jump.default, exp_cardOne_promo_type.test, exp_qr_cnc.test, '\n",
    "                    'exp_popup_about_order.test, exp_apigw_recommendations.test, exp_where_place_cnc.control, '\n",
    "                    'exp_editing_cnc_onboarding.default, exp_editing_cnc.default, exp_selection_carousel.test, '\n",
    "                    'exp_pickup_in_delivery.false, exp_feature_kpp_test.false, exp_welcome_onboarding.default, exp_cl_new_splash.default, '\n",
    "                    'exp_web_referral_program_type.default, exp_where_place_new.default, exp_start_page.default, '\n",
    "                    'exp_promocode_bd_coupon.default, exp_personal_promo_swipe_animation.default, exp_default_payment_type.default, '\n",
    "                    'exp_main_page_carousel_vs_banner.default, exp_start_page_onboarding.default, exp_newui_cart_check_edit.default, '\n",
    "                    'exp_search_new_logic.default, exp_search_ds_pers_similar.default, exp_growthbooks_aa_id_based_feature.control, '\n",
    "                    'exp_referral_program_type.default, exp_my_choice_search.default, exp_items_by_rating.default, '\n",
    "                    'exp_can_accept_early.default, exp_test_gb_value.false, exp_online_subscription.default, exp_new_nps_keyboard.test, '\n",
    "                    'exp_main_page_carousel_vs_banner_shop.default, exp_bathcing.default, exp_web_qr_cnc.default, '\n",
    "                    'exp_hide_cash_payment_for_cnc_wo_adult_items.default, exp_web_promocode_bd_coupon.default, '\n",
    "                    'exp_prices_per_quantum.default, exp_test.default123, exp_web_partner_coupons_separately.default, '\n",
    "                    'exp_web_chips_online.default'),\n",
    "    'SessionToken': 'E05BD3D1115FF4A5D5F0BC02D141EB5A',\n",
    "    'User-Agent': 'Mozilla/5.0 (Windows NT 10.0; Win64; x64) AppleWebKit/537.36 (KHTML, like Gecko) Chrome/133.0.0.0 Safari/537.36',\n",
    "    'X-Delivery-Mode': 'pickup',\n",
    "    'X-Platform': 'omniweb',\n",
    "    'X-Retail-Brand': 'lo',\n",
    "}"
   ]
  },
  {
   "cell_type": "markdown",
   "id": "8015df7e-edc1-4c11-ba48-01b7703289bd",
   "metadata": {},
   "source": [
    "### 2. Веб-скрейпинг"
   ]
  },
  {
   "cell_type": "markdown",
   "id": "20b6d16b-26ac-4b80-995c-301c22a41cfb",
   "metadata": {},
   "source": [
    "Чтобы извлечь данные о товарах с сайта Ленты, мы действуем поэтапно: загружаем список категорий, собираем данные по каждой категории, очищаем результаты и сохраняем всё в структурированном формате."
   ]
  },
  {
   "cell_type": "markdown",
   "id": "11636fcf-0f84-49d4-b41f-a9d1e0021d75",
   "metadata": {},
   "source": [
    "#### 2.1. Получение категорий"
   ]
  },
  {
   "cell_type": "markdown",
   "id": "4103bc57-923a-4030-974b-37a0e185c186",
   "metadata": {},
   "source": [
    "Сначала мы получаем список товарных категорий через API Ленты. Функция извлекает нужные поля — *id*, *name*, родительскую категорию, *slug* (используется для формирования URL) и *level*, — и возвращает очищенный список.\n",
    "\n",
    "Одним из обязательных параметров запроса является метка текущего времени в миллисекундах, она добавляется к URL запроса. Каждая категория имеет числовой идентификатор и slug; оба параметра необходимы для последующих запросов и построения URL."
   ]
  },
  {
   "cell_type": "code",
   "execution_count": null,
   "id": "6fe956d8-332a-4772-98b8-deb105f60b27",
   "metadata": {},
   "outputs": [],
   "source": [
    "def fetch_categories():\n",
    "\n",
    "    # получаем данные о категориях от API (не забываем метку времени)\n",
    "    response = requests.get(f'{CATEGORIES_URL}{int(time.time() * 1000)}', headers=HEADERS)\n",
    "    raw_categories = json.loads(response.text) # преобразуем JSON-ответ в список словарей с категориями\n",
    "    \n",
    "    cleaned_categories = []\n",
    "    \n",
    "    # проходим по полученным данным и выбираем только нужные поля\n",
    "    for category in raw_categories[\"categories\"]:    # выбираем категории верхнего уровня, сохраняем их параметры\n",
    "        cleaned_categories.append({\n",
    "            \"id\": category[\"id\"], # идентификатор категории для последующего получения товаров\n",
    "            \"name\": category[\"name\"], # название — для справки\n",
    "            \"parent_id\": category[\"parentId\"] if category[\"parentId\"] != 0 else None,        # идентификатор и название родительской категории\n",
    "            \"parent_name\": category[\"parentName\"] if category[\"parentName\"] != '' else None, # пусто, если это категория верхенго уровня\n",
    "            \"slug\": category[\"slug\"], # имя категории, использумое в URL, нужно для получения товаров\n",
    "            \"level\": category[\"level\"] # уровень категории, помогает избежать повторного запроса тех же товаров\n",
    "        })\n",
    "\n",
    "    return cleaned_categories"
   ]
  },
  {
   "cell_type": "markdown",
   "id": "af8203c8-8ca0-4d68-87ca-32b98668c827",
   "metadata": {},
   "source": [
    "Мы загружаем все доступные категории и сохраняем их в CSV-файл, чтобы данные было удобно просматривать и повторно использовать. Затем отбираем только категории второго уровня как компромисс по скорости и частоте запросов. С одной стороны, таких категорий меньше, чем третьего уровня (это ускоряет процесс и снижает риск превышения лимитов запросов), с другой — они более мелкие, чем категории верхнего уровня, что помогает сократить потери данных при ошибке запроса или блокировке."
   ]
  },
  {
   "cell_type": "code",
   "execution_count": null,
   "id": "3d945e47-de47-4533-8aa7-648c53610ded",
   "metadata": {
    "scrolled": true
   },
   "outputs": [],
   "source": [
    "categories = fetch_categories()\n",
    "\n",
    "categories_df = pd.DataFrame(categories)\n",
    "categories_df.to_csv(f'categories-{CHECK_DATE}-lenta.csv', index=False)"
   ]
  },
  {
   "cell_type": "code",
   "execution_count": null,
   "id": "262bad6f-9cfb-4810-a865-905d41b7b063",
   "metadata": {},
   "outputs": [],
   "source": [
    "# необязательный промежуточный вывод списка категорий\n",
    "# with pd.option_context('display.max_rows', None, 'display.max_colwidth', None):\n",
    "#     display(categories_df)"
   ]
  },
  {
   "cell_type": "code",
   "execution_count": null,
   "id": "6619d3a5-595c-481d-8298-06439601407c",
   "metadata": {
    "scrolled": true
   },
   "outputs": [],
   "source": [
    "categories_2 = [cat for cat in categories if cat['level'] == 2] # выбираем только категории второго уровня\n",
    "# categories_2 = categories_2[:] # эту строку можно использовать, чтобы продолжить сбор данных с определённого места в случае ошибки\n",
    "total_categories_count = len(categories_2)"
   ]
  },
  {
   "cell_type": "markdown",
   "id": "40a7bd56-d151-47b4-960a-494bf80725b8",
   "metadata": {},
   "source": [
    "#### 2.2. Получение исходных данных о товарах"
   ]
  },
  {
   "cell_type": "markdown",
   "id": "51aa7307-51ca-4fba-b825-ebb468b40090",
   "metadata": {},
   "source": [
    "Мы получаем списки товаров, имитируя работу API сайта, который загружает товары порциями до 40 товаров за запрос (пагинация), смещая индекс (*offset*) при каждом следующем запросе. В отличие от некоторых других сайтов, Lenta использует POST-запросы для получения данных о товарах («items»), а не GET-запросы. В теле запроса передаются идентификатор категории, фиксированный лимит в 40 товаров и индекс смещения, увеличивающийся на 40 с каждой страницей. В запросе есть еще пара дополнительных полей (фильтры и сортировка), но они остаются неизменными.\n",
    "\n",
    "В запросе также используется заголовок `Referer`, указывающий на страницу категории (сформированную из базового URL, slug и идентификатора), чтобы лучше имитировать поведение браузера — хотя это, по-видимому, не строго обязательно.\n",
    "\n",
    "Мы перебираем все страницы внутри категории, пока не соберём все товары. Случайные паузы между запросами снижают риск блокировок и превышения лимитов.\n",
    "\n",
    "В итоге получаем сырые данные о товарах в формате JSON, соответствующем структуре, используемой на сайте."
   ]
  },
  {
   "cell_type": "code",
   "execution_count": null,
   "id": "1553fe2a-603c-42c7-ada8-51431ceb86f2",
   "metadata": {},
   "outputs": [],
   "source": [
    "def fetch_products(category):\n",
    "    \n",
    "    total_products = 1 # начальное значение, чтобы войти в цикл\n",
    "    offset = 0\n",
    "    products = []\n",
    "\n",
    "    # задаём заголовок Referer, соответствующий запрашиваемой категории (может помочь избежать блокировки)\n",
    "    HEADERS['Referer'] = f'https://lenta.com/catalog/{category[\"slug\"]}-{category[\"id\"]}/'\n",
    "    url = 'https://lenta.com/api-gateway/v1/catalog/items'\n",
    "        \n",
    "    while offset < total_products:\n",
    "        \n",
    "        time.sleep(random.uniform(1, 5)) # случайная задержка, чтобы не вызвать блокировку\n",
    "\n",
    "        # формируем тело POST-запроса\n",
    "        json_data = {\n",
    "            'categoryId': category['id'],\n",
    "            'limit': 40,\n",
    "            'offset': offset,\n",
    "            'sort': {\n",
    "                'type': 'popular',\n",
    "                'order': 'desc',\n",
    "            },\n",
    "            'filters': {\n",
    "                'range': [],\n",
    "                'checkbox': [],\n",
    "                'multicheckbox': [],\n",
    "            },\n",
    "        }\n",
    "    \n",
    "        response = requests.post(url, headers=HEADERS, json=json_data) # получаем данные товаров для текущей категории и страницы (смещения)\n",
    "        response_data = json.loads(response.text)\n",
    "        \n",
    "        products += response_data[\"items\"] # добавляем товары из ответа в общий список\n",
    "        total_products = response_data[\"total\"] # обновляем общее число товаров\n",
    "        \n",
    "        offset += 40 # переходим к следующей странице результатов\n",
    "        \n",
    "        print(f'{len(products)}..', end='') # индикатор прогресса: сколько товаров уже загружено\n",
    "\n",
    "    return products    "
   ]
  },
  {
   "cell_type": "markdown",
   "id": "19a3c9e3-b6d8-45ee-9535-7b3de6ca25e5",
   "metadata": {},
   "source": [
    "#### 2.3. Очистка данных о товарах"
   ]
  },
  {
   "cell_type": "markdown",
   "id": "184f28a8-a234-48b6-9dce-bb819e8058f9",
   "metadata": {},
   "source": [
    "Далее мы определяем функцию, которая извлекает из сырых данных только необходимые поля:\n",
    "\n",
    "- Идентификатор категории (для справки)\n",
    "- Название товара\n",
    "- Обычная цена (преобразованная из копеек в рубли)\n",
    "- Уточнение по цене (например, вес нетто)\n",
    "- Название супермаркета\n",
    "\n",
    "В итоге получается очищенный список товаров, готовый к сохранению или дальнейшему анализу."
   ]
  },
  {
   "cell_type": "code",
   "execution_count": null,
   "id": "e68de3af-01af-4979-8113-93757e5df6e3",
   "metadata": {},
   "outputs": [],
   "source": [
    "def clean_product_data(category, raw_products):\n",
    "\n",
    "    cleaned_products = []\n",
    "\n",
    "    # проходим по сырым данным и выбираем только нужные поля\n",
    "    for product in raw_products:\n",
    "        cleaned_products.append({\n",
    "            \"category_id\": category[\"id\"],\n",
    "            \"name\": product[\"name\"],\n",
    "            \"price\": product[\"prices\"][\"priceRegular\"] / 100, # преобразуем копейки в рубли\n",
    "            \"pricing_unit\": product['weight'][\"package\"], # уточняет за какую единицу указана цена или вес нетто\n",
    "            \"supermarket\": 'Lenta' # название супермаркета как источника данных\n",
    "        })\n",
    "\n",
    "    return cleaned_products"
   ]
  },
  {
   "cell_type": "markdown",
   "id": "d45571db-6d84-41c7-abb4-0465b34cfe2c",
   "metadata": {},
   "source": [
    "#### 2.4. Сводим все вместе"
   ]
  },
  {
   "cell_type": "markdown",
   "id": "d3e53c87-c931-4438-a7af-0f98de9e4959",
   "metadata": {},
   "source": [
    "В следующей ячейке кода:\n",
    "\n",
    "1. Проходим по выбранным категориям второго уровня,\n",
    "2. Получаем и очищаем данные по товарам каждой категории,\n",
    "3. Добавляем очищенные данные в общий CSV-файл, собирая полный набор данных.\n",
    "\n",
    "Для удобства отслеживания в процессе выводится количество загруженных товаров по каждой категории. Между итерациями добавляется небольшая случайная задержка, чтобы избежать ограничения по количеству запросов. Имя выходного файла содержит дату (`CHECK_DATE`), чтобы зафиксировать, когда данные были выгружены."
   ]
  },
  {
   "cell_type": "code",
   "execution_count": null,
   "id": "c625c17e-d516-467a-b13f-42ed9870bfc5",
   "metadata": {
    "scrolled": true
   },
   "outputs": [],
   "source": [
    "fetched_categories_count = 0    # счётчик категорий для отслеживания прогресса загрузки\n",
    "\n",
    "# создаём файл с заголовком таблицы для записи данных\n",
    "products_df = pd.DataFrame(columns=[\"category_id\", \"name\", \"price\", \"pricing_unit\", \"supermarket\"])\n",
    "products_df.to_csv(f'scraped_products-{CHECK_DATE}-lenta.csv', index=False, mode='w')\n",
    "\n",
    "for category in categories_2:\n",
    "    \n",
    "    raw_products = fetch_products(category) # загружаем товары\n",
    "    new_products = clean_product_data(category, raw_products) # извлекаем только необходимые данные и добавляем новые товары в список\n",
    "\n",
    "    products_df = pd.DataFrame(new_products)\n",
    "    products_df.to_csv(f'scraped_products-{CHECK_DATE}-lenta.csv', index=False, mode='a', header=False)\n",
    "\n",
    "    fetched_categories_count += 1\n",
    "    print(f'Категория {category[\"id\"]} обработана, загружено {fetched_categories_count} из {total_categories_count} категорий')\n",
    "    \n",
    "    time.sleep(random.uniform(1, 5))\n",
    "\n",
    "print(f'Загрузка завершена. Результаты сохранены в файл scraped_products-{CHECK_DATE}-lenta.csv')"
   ]
  },
  {
   "cell_type": "markdown",
   "id": "8fac6f35-e377-4f13-aee1-bd6f6bc05256",
   "metadata": {},
   "source": [
    "### 3. Фильтрация и нормализация данных о товарах"
   ]
  },
  {
   "cell_type": "markdown",
   "id": "108597e8-b68e-41e6-8826-313e6cbe7e10",
   "metadata": {},
   "source": [
    "После сбора и очистки исходных данных о продуктах мы переходим к фильтрации, чтобы включить только те товары, которые мы планируем сравнивать. Этот этап состоит из нескольких шагов:"
   ]
  },
  {
   "cell_type": "markdown",
   "id": "cc4d0e1c-d621-4a8a-8c9b-09a86b87b3bc",
   "metadata": {},
   "source": [
    "#### 3.1. Первичная обработка"
   ]
  },
  {
   "cell_type": "markdown",
   "id": "b52572b2-556e-4fbf-a0f8-90d3d51997a5",
   "metadata": {},
   "source": [
    "Начинаем с загрузки ранее сохранённых данных по продуктам и категориям, удаляем поле *category_id*, которое больше не нужно. Также удаляем точные дубли, которые могли появиться, если один и тот же товар был в нескольких категориях."
   ]
  },
  {
   "cell_type": "code",
   "execution_count": null,
   "id": "d9763d85-3a2d-48d0-9459-da05ce72cbee",
   "metadata": {},
   "outputs": [],
   "source": [
    "import pandas as pd\n",
    "import re\n",
    "\n",
    "categories = pd.read_csv('categories-2025-03-04-lenta.csv')\n",
    "products_original = pd.read_csv('scraped_products-2025-03-04-lenta-complete.csv')\n",
    "\n",
    "products = products_original.drop(['category_id'], axis=1)    # удаляем поле category_id\n",
    "products = products.drop_duplicates() # удаляем дубли"
   ]
  },
  {
   "cell_type": "markdown",
   "id": "ec383ebf-e65f-42d3-b543-9a66e07c8007",
   "metadata": {},
   "source": [
    "#### 3.2. Фильтрация товаров по типу"
   ]
  },
  {
   "cell_type": "markdown",
   "id": "c3337856-6146-4ffc-bf4e-55fcd100b956",
   "metadata": {},
   "source": [
    "Чтобы выбрать из набора только релевантные для сравнения товары, мы создаём словарь с типами продуктов и соответствующими регулярными выражениями. Каждое выражение выбирает базовую форму продукта, исключая вариации, которые не входят в сферу нашего анализа.\n",
    "\n",
    "> **Примечание:** приведенные здесь регулярные выражения не универсальны и подобраны под конкретный набор данных."
   ]
  },
  {
   "cell_type": "code",
   "execution_count": null,
   "id": "1b8a428c-a3ed-4f8e-aa7d-483d24ccdae7",
   "metadata": {},
   "outputs": [],
   "source": [
    "product_regex_map = {\n",
    "    'rice': r'^рис\\b(?!.*овощ)',\n",
    "    'bread': r'(^хлеб\\b|^багет\\b|^батон\\b)(?!.*печеноч)',\n",
    "    'chicken_fillet': r'^филе (кур|груд)(?!.*(копч|соус|запеч|бедр|индей|утен))',\n",
    "    'pork_leg': r'^окорок (свин|из свин)(?!.*(копч|соус))',\n",
    "    'egg': r'^яйцо курин',\n",
    "    'cucumber': r'^огур(цы|ец)(?!.*(солен|маринован|ягод))',\n",
    "    'carrot': r'^морковь(?!.*(корей|отвар))', # выбирает \"морковь\" и некоторые вариации,\n",
    "                                              # но исключает неподходящие \"морковь по-корейски\" или \"морковь отварная\"\n",
    "    'onion': r'^лук репч(?!.*суш)',\n",
    "    'tomato': r'^томаты(?!.*(сок|очищ|маринован|вялен|солен|измельч|кус))',\n",
    "    'cabbage': r'^капуста\\b.*белокоч',\n",
    "    'eggplant': r'^баклажаны,',\n",
    "    'banana': r'^банан(?!.*(вял|суш|куб))', # выбирает \"банан\" или \"бананы\", но исключает \"бананы вяленые\" или \"бананы сушеные\"\n",
    "    'orange': r'^апельсин(?!.*(сахар|куб))',\n",
    "    'milk': r'^молоко(?!.*(сгущ|кокос|сух|топл|коз|обогащ|витам|лактоз|печен))',\n",
    "    'yogurt': r'^йогурт\\b(?!.*питье)',\n",
    "    'condensed_milk': r'^молоко.*сгущ(?!.*(варен|кофе|какао))',\n",
    "    'green_tea': r'^чай зел(?!.*порош)',\n",
    "    'black_tea': r'^чай черн',\n",
    "    'ground_coffee': r'^кофе(?!.*(капсул|раствор|фильтр)).*молот',\n",
    "    'sugar': r'^сахар\\b(?!.*(ванил|коричн))',\n",
    "    'salt': r'^соль(?!.*(посуд|ванн|розов|чесн|прян|купан|мельн))',\n",
    "    'sunflower_oil': r'^масло\\b(?!.*(оливк|спрей|аром|вкус|добавл)).*подсолн',\n",
    "    'water': r'^вода\\b(?!.*(малин|клюкв|лимон|цитр)).*негаз',\n",
    "    'buckwheat': r'(^крупа\\b.*гречн|^гречка\\b)(?!.*зел)',\n",
    "    'spaghetti': r'^макароны\\b.*спагетти', # выбирает \"макароны\" и среди них только \"спагетти\"\n",
    "    'rice_noodles': r'(^лапша|^вермишель).*(рис|фунчоз)(?!.*соус)',\n",
    "    'tofu': r'(^продукт)(?!.*(копч|папр)).*тофу|^тофу(?!.*(гриб|томат))',\n",
    "    'mango': r'^манго желт',\n",
    "    'fish_sauce': r'^соус.*рыбн'\n",
    "}\n",
    "product_regex_list = '|'.join(product_regex_map.values()) # объединяем все регулярные выражения в одно, используя оператор OR (|)\n",
    "\n",
    "# фильтруем товары, названия которых соответствуют одному из выбранных типов продуктов\n",
    "filtered_products = products.loc[products.name.str.contains(product_regex_list, case=False, regex=True)]"
   ]
  },
  {
   "cell_type": "markdown",
   "id": "acdb3e4e-a709-48c7-8bb3-8368d7399e30",
   "metadata": {},
   "source": [
    "#### 3.3. Присвоение типа продукта"
   ]
  },
  {
   "cell_type": "markdown",
   "id": "20c7c76d-5d2f-44e0-a1db-fe6f5350cbe9",
   "metadata": {},
   "source": [
    "Каждому отфильтрованному товару присваивается метка с типом продукта на основе совпадения по регулярному выражению."
   ]
  },
  {
   "cell_type": "code",
   "execution_count": null,
   "id": "989c442a-3595-4e76-9515-95ee29d09171",
   "metadata": {
    "scrolled": true
   },
   "outputs": [],
   "source": [
    "def assign_product_type(row):\n",
    "    name = row['name']\n",
    "    for product_type, regex in product_regex_map.items():\n",
    "        match = re.search(regex, name, flags=re.IGNORECASE)\n",
    "        if match:\n",
    "            return product_type\n",
    "    return None\n",
    "\n",
    "filtered_products = filtered_products.copy()  # создаём копию, чтобы избежать предупреждений при добавлении новых полей через .loc\n",
    "filtered_products.loc[:,'product_type'] = filtered_products.apply(assign_product_type, axis=1)\n",
    "\n",
    "# необязательный промежуточный вывод списка отфильтрованных товаров\n",
    "# with pd.option_context('display.max_rows', None, 'display.max_colwidth', None):\n",
    "#     display(filtered_products)"
   ]
  },
  {
   "cell_type": "markdown",
   "id": "d23fbf97-38fb-473a-b05a-c078cb3f7ef1",
   "metadata": {},
   "source": [
    "#### 3.4. Извлечение и нормализация единиц измерения"
   ]
  },
  {
   "cell_type": "markdown",
   "id": "d714926d-9c6f-4953-ad8b-476b1bd16221",
   "metadata": {},
   "source": [
    "Разные единицы товаров отличаются по количеству, весу или объёмы. Чтобы сравнение было корректным, мы извлекаем нужную информацию из названия товара или из поля с уточнением цены и рассчитываем нормализованные показатели — цену за килограмм, литр или за штуку.\n",
    "\n",
    "- Вес в граммах\n",
    "- Количество штук (в частности, яиц)\n",
    "- Объём в миллилитрах\n",
    "\n",
    "Каждое из значений извлекается по шаблону (через регулярное выражение). Не все товары содержат все эти значения, поэтому соответствующие колонки с нормализованными ценами (*price_kg*, *price_lit*, *price_unit*) могут остаться пустыми для некоторых товаров.\n",
    "\n",
    "> **Примечание о весовых товарах:** изначально предполагалось, что для таких товаров цена указана за кг и, соответственно, вес равен 1 кг. Однако позже выяснилось, что это не так. Фактический вес передавался API в отдельном поле, но я не обратил на него внимание. Эта ошибка учтена позже на этапе финальной очистки данных."
   ]
  },
  {
   "cell_type": "code",
   "execution_count": null,
   "id": "7c617f1a-5d5a-41df-b680-e2bfd427bc4f",
   "metadata": {
    "scrolled": true
   },
   "outputs": [],
   "source": [
    "def extract_weight(row):\n",
    "    \"\"\"Извлекает общий вес в граммах из названия товара или уточнения цены.\n",
    "    Поддерживает как одиночный вес, так и формат с несколькими порциями (например, '5x100г').\n",
    "    Примечание: Для 'весовых' товаров вес принят равным 1 кг, это ошибка,\n",
    "    которая будет исправлена позже на этапе финальной очистки данных.\n",
    "    \"\"\"\n",
    "    \n",
    "    name, pricing_unit = row['name'], row['pricing_unit']\n",
    "    pricing_unit = str(pricing_unit) if pd.notna(pricing_unit) else \"\" # заменяем отсутствующие значения пустой строкой\n",
    "    \n",
    "    # формат с несколькими порциями (например, 5x100г)\n",
    "    match = re.search(r'(\\d+)(x|х)(\\d+|\\d+[,.]\\d+)\\s?г\\b', name) # выбирает (число) х (число) г\n",
    "    if match:\n",
    "        portion = float(match.group(1).replace(',', '.')) # извлекаем количество порций\n",
    "        per_portion = float(match.group(3).replace(',', '.')) # извлекаем вес одной порции\n",
    "        return portion * per_portion # возвращаем общий вес\n",
    "    # одиночный вес (в граммах или килограммах)\n",
    "    match = re.search(r'(\\d+|\\d+[,.]\\d+)\\s?(г\\b|кг)', name)\n",
    "    if match:\n",
    "        weight = float(match.group(1).replace(',', '.'))\n",
    "        unit = match.group(2)\n",
    "        return weight * 1000 if unit == 'кг' else weight # преобразуем килограммы в граммы\n",
    "    # если в name ничего не найдено — проверяем pricing_unit\n",
    "    match = re.search(r'(\\d+|\\d+[,.]\\d+)\\s?(г\\b|кг)', pricing_unit)\n",
    "    if match:\n",
    "        weight = float(match.group(1).replace(',', '.'))\n",
    "        unit = match.group(2)\n",
    "        return weight * 1000 if unit == 'кг' else weight\n",
    "    # если в названии есть слово \"весовой\", значит указана цена за 1 кг\n",
    "    match = re.search(r'\\bвесов', name)\n",
    "    if match:\n",
    "        weight = 1000\n",
    "        return weight\n",
    "\n",
    "    return None  # если ничего не найдено\n",
    "\n",
    "# следующие две функции работают по той же логике, что и extract_weight, но для штук и миллилитров\n",
    "def extract_number_of_units(row):\n",
    "    \"\"\"Извлекает количество единиц из названия товара или уточнения цены\n",
    "    ('шт' - штуки; 'пак', 'пир', 'саш' - для чая: пакетики, пирамидки, саше).\n",
    "    \"\"\"\n",
    "    \n",
    "    name, pricing_unit = row['name'], row['pricing_unit']\n",
    "    pricing_unit = str(pricing_unit) if pd.notna(pricing_unit) else \"\"\n",
    "\n",
    "    # проверяем название\n",
    "    match = re.search(r'(\\d+)\\s?(шт|пак|пир|саш)', name)\n",
    "    if match:\n",
    "        number_of_units = int(match.group(1))\n",
    "        return number_of_units\n",
    "    # проверяем pricing_unit\n",
    "    match = re.search(r'(\\d+)\\s?(шт|пак|пир|саш)', pricing_unit)\n",
    "    if match:\n",
    "        number_of_units = int(match.group(1))\n",
    "        return number_of_units\n",
    "\n",
    "    return None  # если ничего не найдено\n",
    "\n",
    "def extract_volume(row):\n",
    "    \"\"\"Извлекает общий объем в миллилитрах из названия товара или уточнения цены.\n",
    "    Поддерживает как одиночный объем, так и групповую упаковку (например, '5x100мл').\n",
    "    \"\"\"\n",
    "    \n",
    "    name, pricing_unit = row['name'], row['pricing_unit']\n",
    "    pricing_unit = str(pricing_unit) if pd.notna(pricing_unit) else \"\"\n",
    "\n",
    "    # формат с несколькими порциями (например, 5x100мл)\n",
    "    match = re.search(r'(\\d+)(x|х)(\\d+|\\d+[,.]\\d+)\\s?мл', name)\n",
    "    if match:\n",
    "        portion = float(match.group(1).replace(',', '.'))\n",
    "        per_portion = float(match.group(3).replace(',', '.'))\n",
    "        return portion * per_portion\n",
    "    # одиночный объем (в литрах или миллилитрах)\n",
    "    match = re.search(r'(\\d+|\\d+[,.]\\d+)\\s?(мл|л\\b)', name)\n",
    "    if match:\n",
    "        volume = float(match.group(1).replace(',', '.'))\n",
    "        unit = match.group(2)\n",
    "        return volume * 1000 if unit == 'л' else volume\n",
    "    # проверяем pricing_unit\n",
    "    match = re.search(r'(\\d+|\\d+[,.]\\d+)\\s?(мл|л\\b)', pricing_unit)\n",
    "    if match:\n",
    "        volume = float(match.group(1).replace(',', '.'))\n",
    "        unit = match.group(2)\n",
    "        return volume * 1000 if unit == 'л' else volume\n",
    "\n",
    "    return None  # если ничего не найдено\n",
    "\n",
    "filtered_products = filtered_products.copy()  # пересоздаем датафрейм\n",
    "\n",
    "# вычисляем нормализованные цены\n",
    "filtered_products.loc[:,'weight'] = filtered_products.apply(extract_weight, axis=1)  # столбец с весом в граммах\n",
    "filtered_products.loc[:,'price_kg'] = filtered_products.price / filtered_products.weight * 1000   # столбец с ценой за кг\n",
    "\n",
    "filtered_products.loc[:,'number_of_units'] = filtered_products.apply(extract_number_of_units, axis=1)  # столбец с количеством штук\n",
    "filtered_products.loc[:,'price_unit'] = filtered_products.price / filtered_products.number_of_units   # столбец с ценой за штуку\n",
    "\n",
    "filtered_products.loc[:,'volume'] = filtered_products.apply(extract_volume, axis=1)  # столбец с объемом в мл\n",
    "filtered_products.loc[:,'price_lit'] = filtered_products.price / filtered_products.volume * 1000   # столбец с ценой за литр\n",
    "\n",
    "# необязательный промежуточный вывод\n",
    "# with pd.option_context('display.max_rows', None, 'display.max_colwidth', None):\n",
    "#     display(filtered_products)"
   ]
  },
  {
   "cell_type": "markdown",
   "id": "aa573590-928d-4cbd-87bc-89971f969224",
   "metadata": {},
   "source": [
    "#### 3.5. Сохранение финального отфильтрованного набора данных"
   ]
  },
  {
   "cell_type": "markdown",
   "id": "dcab9aef-bd2c-4c50-bdfd-b62affca4bb3",
   "metadata": {},
   "source": [
    "Наконец, отфильтрованный и дополненный набор данных сохраняется в новый CSV-файл для дальнейшего анализа."
   ]
  },
  {
   "cell_type": "code",
   "execution_count": null,
   "id": "058c9246-2f55-49e0-be82-0e2977df56d0",
   "metadata": {},
   "outputs": [],
   "source": [
    "filtered_products.to_csv(f'filtered_products-2025-03-04-lenta.csv')"
   ]
  }
 ],
 "metadata": {
  "kernelspec": {
   "display_name": "Python 3 (ipykernel)",
   "language": "python",
   "name": "python3"
  },
  "language_info": {
   "codemirror_mode": {
    "name": "ipython",
    "version": 3
   },
   "file_extension": ".py",
   "mimetype": "text/x-python",
   "name": "python",
   "nbconvert_exporter": "python",
   "pygments_lexer": "ipython3",
   "version": "3.10.11"
  }
 },
 "nbformat": 4,
 "nbformat_minor": 5
}
