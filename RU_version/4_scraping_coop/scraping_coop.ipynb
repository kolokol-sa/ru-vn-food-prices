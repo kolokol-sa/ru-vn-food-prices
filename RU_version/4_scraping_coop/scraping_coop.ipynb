{
 "cells": [
  {
   "cell_type": "markdown",
   "id": "029d1b74-7ae0-4fbe-b120-2b77e5fc04b7",
   "metadata": {},
   "source": [
    "### 1. Подготовка"
   ]
  },
  {
   "cell_type": "markdown",
   "id": "22df0827-9cc4-4f40-b584-2dc6042a14cc",
   "metadata": {},
   "source": [
    "Для подготовки к сбору данных из [Co.op Online](https://cooponline.vn/) мы импортируем необходимые библиотеки для веб-скрейпинга и работы с данными. Переменная `CHECK_DATE` хранит текущую дату, которая используется для маркировки файлов."
   ]
  },
  {
   "cell_type": "code",
   "execution_count": null,
   "id": "08f038e0-9874-42fe-a970-e7e6d4a14a1e",
   "metadata": {},
   "outputs": [],
   "source": [
    "from bs4 import BeautifulSoup\n",
    "import requests\n",
    "import re\n",
    "import time\n",
    "import random\n",
    "import pandas as pd\n",
    "import json\n",
    "from datetime import date\n",
    "\n",
    "CHECK_DATE = date.today()"
   ]
  },
  {
   "cell_type": "markdown",
   "id": "0307ddd8-ccf0-4a06-93c5-2958eaa72389",
   "metadata": {},
   "source": [
    "### 2. Веб-скрейпинг"
   ]
  },
  {
   "cell_type": "markdown",
   "id": "1b981c15-b0a6-4b7e-99eb-0a2bb7389129",
   "metadata": {},
   "source": [
    "Чтобы получить данные о товарах с Co.op, мы действуем поэтапно: сначала получаем категории товаров, затем коды товаров с соответствующих страниц, собираем информацию о каждом товаре по категориям, очищаем полученные данные и сохраняем их в структурированном формате."
   ]
  },
  {
   "cell_type": "markdown",
   "id": "ad0c87fa-e3f6-47b7-bc5f-113ed24e292f",
   "metadata": {},
   "source": [
    "#### 2.1. Получение категорий"
   ]
  },
  {
   "cell_type": "markdown",
   "id": "61aeb07b-5a7b-4292-9dc6-dda7f17a0240",
   "metadata": {},
   "source": [
    "Начинаем с извлечения категорий товаров из сохранённой HTML-страницы (`groups.html`), она как и любая другая страница сайта Co.op Online содержит структуру каталога товаров. Скрипт проходит по трём уровням дерева категорий: верхний уровень, подкатегории и подподкатегории.\n",
    "\n",
    "Каждая категория сохраняется в виде словаря с полями: *name*, *level* (1 — верхний уровень, 2 — подкатегория, 3 — подподкатегория), флаг наличия дочерних категорий, родительская категория (если есть) и *link*, ссылка на страницу категории."
   ]
  },
  {
   "cell_type": "code",
   "execution_count": null,
   "id": "906f80aa-d4d8-4000-a7ec-c89adc81c9d6",
   "metadata": {},
   "outputs": [],
   "source": [
    "with open(\"groups.html\", \"r\", encoding=\"utf-8\") as file:\n",
    "    groups_page = BeautifulSoup(file, \"html.parser\")    # загружаем сохранённую HTML-страницу и создаём объект BeautifulSoup\n",
    "\n",
    "categories = []\n",
    "# находим все категории верхнего уровня\n",
    "top_categories = groups_page.find_all(\"a\", class_=\"clearfix\", href=re.compile(r\"https://cooponline.vn/groups/[^#]\"))\n",
    "\n",
    "# проходим по всем категориям и извлекаем нужные данные\n",
    "for category in top_categories:\n",
    "    \n",
    "    categories.append({        # сохраняем только нужные поля в словарь\n",
    "        \"name\": category.span.string, # имя категории для справки\n",
    "        \"level\": 1, # уровень категории\n",
    "        \"hasChild\": True, # задаём True, потому что у верхних категорий всегда есть подкатегории, это важно для выгрузки товаров\n",
    "        \"parent\": None, # родительская категория отсутствует\n",
    "        \"link\": category[\"href\"] # ссылка на страницу категории, нужна для получения кодов товаров\n",
    "    })\n",
    "    \n",
    "    submenu = category.find_next_sibling(\"div\", class_=\"sub-menu\")    # подкатегории находятся в последующем блоке div с классом sub-menu\n",
    "    subcategories = submenu.find_all(\"a\", class_=\"main-menu\")    # находим все подкатегории и проходим по ним\n",
    "    for subcategory in subcategories:\n",
    "\n",
    "        subsubmenu = subcategory.find_next_sibling(\"ul\")    # проверяем, есть ли у подкатегории свои дочерние категории\n",
    "        \n",
    "        categories.append({    # так же добавляем подкатегории в список словарей\n",
    "            \"name\": subcategory.string,\n",
    "            \"level\": 2,\n",
    "            \"hasChild\": True if subsubmenu else False,   # если есть подподкатегории, ставим True, иначе False\n",
    "            \"parent\": category.span.string,\n",
    "            \"link\": subcategory[\"href\"]\n",
    "        })\n",
    "\n",
    "        # если есть подподкатегории, то проходим и по ним\n",
    "        if subsubmenu: \n",
    "            \n",
    "            subsubcategories = subsubmenu.find_all(\"a\")\n",
    "            for subsubcategory in subsubcategories:\n",
    "                \n",
    "                categories.append({\n",
    "                    \"name\": subsubcategory.string,\n",
    "                    \"level\": 3,\n",
    "                    \"hasChild\": False,\n",
    "                    \"parent\": subcategory.string,\n",
    "                    \"link\": subsubcategory[\"href\"]\n",
    "                })"
   ]
  },
  {
   "cell_type": "markdown",
   "id": "6c4ad024-8c2a-4312-af6b-4e08da7dcec7",
   "metadata": {},
   "source": [
    "После формирования списка мы приводим названия категорий к единому виду, удаляем пробелы в начале и в конце."
   ]
  },
  {
   "cell_type": "code",
   "execution_count": null,
   "id": "d4e6df5b-f553-4cfa-9a19-beacfe30e895",
   "metadata": {},
   "outputs": [],
   "source": [
    "for category in categories:\n",
    "    category[\"name\"] = category[\"name\"].strip()\n",
    "    if category[\"parent\"] is not None:\n",
    "        category[\"parent\"] = category[\"parent\"].strip()"
   ]
  },
  {
   "cell_type": "markdown",
   "id": "b257d06a-1c5d-4425-908f-ccea1f471f60",
   "metadata": {},
   "source": [
    "#### 2.2. Получение кодов товаров"
   ]
  },
  {
   "cell_type": "markdown",
   "id": "eb478a9b-c4de-402c-aa76-f1e8b28ab879",
   "metadata": {},
   "source": [
    "В отличие от других сайтов в этом проекте, Co.op Online требует явного указания кодов товаров в теле POST-запроса при получении данных о них. Эти коды встроены в HTML-код страницы каждой категории. Чтобы перейти к выгрузке товаров, необходимо сначала перейти на страницу каждой категории и извлечь соответствующие коды.\n",
    "\n",
    "Хотя коды товаров указаны для категорий всех уровней, мы сфокусируемся на тех, у которых нет подкатегорий. Эти категории меньше по объёму, что поможет снизить риск блокировки или потери большого количества данных при ошибке запроса. На каждой странице категории мы находим тег `module-taxonomy`, который содержит `term_id` категории и список кодов товаров в атрибуте `items`. Сохраняем эту информацию вместе с метаданными категории для следующего этапа."
   ]
  },
  {
   "cell_type": "code",
   "execution_count": null,
   "id": "8e882ce6-af66-4fe5-a433-1d184c428fce",
   "metadata": {
    "scrolled": true
   },
   "outputs": [],
   "source": [
    "# создаём файл с заголовком таблицы для записи данных\n",
    "categories_df = pd.DataFrame(columns=[\"name\", \"level\", \"hasChild\", \"parent\", \"link\", \"term_id\", \"item_codes\"])\n",
    "categories_df.to_csv(f'categories-{CHECK_DATE}-coop.csv', index=False, mode='w')\n",
    "\n",
    "total_categories_count = len(categories) # общее количество категорий, которые нужно обработать (для отслеживания прогресса)\n",
    "fetched_categories_count = 0 # счётчик обработанных категорий\n",
    "\n",
    "for category in categories:\n",
    "    \n",
    "    print(f'{category[\"name\"]}..', end='') # выводим текущую категорию\n",
    "    \n",
    "    if not category[\"hasChild\"]: # если у категории нет подкатегорий, обрабатываем её\n",
    "        \n",
    "        print('нет подкатегорий, ищем коды товаров', end='') # выводим, что идёт поиск кодов товаров\n",
    "\n",
    "        # загружаем HTML-страницу категории, извлекаем term_id и item_codes и сохраняем их\n",
    "        current_page = requests.get(category[\"link\"]).text\n",
    "        page_bs = BeautifulSoup(current_page, \"html.parser\")\n",
    "        products_tag = page_bs.find(\"module-taxonomy\")\n",
    "        if products_tag is not None:\n",
    "            category[\"term_id\"] = products_tag[\"term_id\"]\n",
    "            category[\"item_codes\"] = products_tag[\"items\"]\n",
    "\n",
    "        # сохраняем категорию в DataFrame и добавляем строку в CSV-файл\n",
    "        categories_df = pd.DataFrame([category])\n",
    "        categories_df.to_csv(f'categories-{CHECK_DATE}-coop.csv', index=False, mode='a', header=False)\n",
    "    else: # если у категории есть подкатегории, HTML не загружаем, но сохраняем информацию в CSV\n",
    "        print('есть подкатегории, пропускаем', end='')\n",
    "        category[\"term_id\"] = None\n",
    "        category[\"item_codes\"] = None\n",
    "        categories_df = pd.DataFrame([category])\n",
    "        categories_df.to_csv(f'categories-{CHECK_DATE}-coop.csv', index=False, mode='a', header=False)\n",
    "        \n",
    "    fetched_categories_count += 1\n",
    "    print(f'..обработано - {fetched_categories_count} из {total_categories_count}')\n",
    "    \n",
    "    time.sleep(random.uniform(1, 3))"
   ]
  },
  {
   "cell_type": "markdown",
   "id": "1297d177-3fcf-4408-b13d-88bb67797e3d",
   "metadata": {},
   "source": [
    "Загружаем итоговую таблицу с категориями и заменяем отсутствующие значения на `None`, чтобы избежать ошибок на следующих этапах."
   ]
  },
  {
   "cell_type": "code",
   "execution_count": null,
   "id": "c3fabf06-1ba1-49eb-b2b9-b0cf4ebde184",
   "metadata": {},
   "outputs": [],
   "source": [
    "categories = pd.read_csv('categories-2025-03-06-coop-complete.csv', dtype={\"term_id\": str})\n",
    "categories = categories.where(pd.notna(categories), None)  # преобразуем NaN в None\n",
    "categories = categories.to_dict('records')\n",
    "# categories = categories[:] # эту строку можно использовать, чтобы продолжить сбор данных с определённого места в случае ошибки"
   ]
  },
  {
   "cell_type": "markdown",
   "id": "bf842aa2-f675-48fa-9242-c43d1978db5a",
   "metadata": {},
   "source": [
    "#### 2.3. Получение исходных данных о товарах"
   ]
  },
  {
   "cell_type": "markdown",
   "id": "9571c725-4169-46d1-bd8e-d84626af6e39",
   "metadata": {},
   "source": [
    "Чтобы получить список товаров с Co.op Online, необходимо воспроизвести поведение сайта при просмотре пользователем страницы категории. В отличие от сайтов, где данные о товарах запрашиваются только на основе кода или slug категории, Co.op требует, чтобы в каждом POST-запросе передавался конкретный список кодов товаров.\n",
    "\n",
    "Мы перебираем каждую категорию без подкатегорий и используем ранее извлечённые `term_id` и коды товаров, чтобы отправить POST-запросы на сервер сайта. Каждый запрос возвращает до 24 товаров. Постраничная загрузка реализуется через параметр `trang`, который увеличивается с каждой итерацией. Запросы продолжаются до тех пор, пока количество возвращённых товаров не станет меньше 24 — это значит, что список закончился.\n",
    "\n",
    "Чтобы избежать блокировки или ограничения частоты запросов, между запросами добавляется случайная задержка. В результате получаем список словарей с «сырыми» данными о товарах в формате JSON."
   ]
  },
  {
   "cell_type": "code",
   "execution_count": null,
   "id": "d2626d63-d09d-419b-bbb9-0358c5650978",
   "metadata": {},
   "outputs": [],
   "source": [
    "ITEMS_HEADERS = {\n",
    "    'origin': 'https://cooponline.vn',\n",
    "    'user-agent': 'Mozilla/5.0 (Windows NT 10.0; Win64; x64) AppleWebKit/537.36 (KHTML, like Gecko) Chrome/133.0.0.0 Safari/537.36'\n",
    "}"
   ]
  },
  {
   "cell_type": "code",
   "execution_count": null,
   "id": "edff0bf8-4b3d-4911-9e12-59047912b228",
   "metadata": {
    "scrolled": true
   },
   "outputs": [],
   "source": [
    "def fetch_products(category):\n",
    "    \n",
    "    current_products = 24 # задаем начальное количество товаров равным 24, чтобы гарантировать хотя бы одну итерацию цикла\n",
    "    current_page = 1\n",
    "    products = []\n",
    "\n",
    "    # задаем заголовок referer в соответствии с текущей категорией\n",
    "    ITEMS_HEADERS['referer'] = category[\"link\"]\n",
    "    url = 'https://cooponline.vn/ajax/'\n",
    "        \n",
    "    while current_products >= 24: # продолжаем цикл, пока на текущей странице не меньше 24 товаров\n",
    "        \n",
    "        time.sleep(random.uniform(1, 5)) # случайная задержка, чтобы избежать блокировки или ограничений\n",
    "\n",
    "        # составляем тело POST-запроса\n",
    "        DATA = {\n",
    "            'request': 'w_getProductsTaxonomy',\n",
    "            'termid': category[\"term_id\"],\n",
    "            'taxonomy': 'groups',\n",
    "            'store': 'xtanphong',\n",
    "            'items': category[\"item_codes\"],\n",
    "            'trang': current_page,\n",
    "        }\n",
    "\n",
    "        # получаем данные о товарах для текущей категории и страницы\n",
    "        response = requests.post('https://cooponline.vn/ajax/', headers=ITEMS_HEADERS, data=DATA)\n",
    "        response_data = json.loads(response.text) # преобразуем JSON-ответ в список словарей\n",
    "        products += response_data # добавляем товары в список\n",
    "        \n",
    "        current_products = len(response_data) # обновляем количество загруженных товаров\n",
    "        current_page += 1 # переходим к следующей странице\n",
    "        \n",
    "        print(f'{len(products)}..', end='') # индикатор прогресса\n",
    "\n",
    "    return products "
   ]
  },
  {
   "cell_type": "markdown",
   "id": "f2cc9594-42a9-4e3d-b474-3c181d5634b9",
   "metadata": {},
   "source": [
    "#### 2.4. Очистка данных о товарах"
   ]
  },
  {
   "cell_type": "markdown",
   "id": "4db589ac-c31c-4ccf-b79e-b806008b596b",
   "metadata": {},
   "source": [
    "После сбора товаров извлекаем только основную информацию для анализа. А именно:\n",
    "\n",
    "- Название категории (для контекста)\n",
    "- Название товара\n",
    "- Цена\n",
    "- Единица измерения\n",
    "- Название супермаркета\n",
    "\n",
    "«Сырые» данные из формата JSON конвертируем в более простую и понятную структуру. В результате имеем список словарей, каждый из которых представляет упрощённую запись о товаре."
   ]
  },
  {
   "cell_type": "code",
   "execution_count": null,
   "id": "2a8e9901-c591-41da-938b-3cf9f5a76030",
   "metadata": {},
   "outputs": [],
   "source": [
    "def clean_product_data(category, raw_products):\n",
    "\n",
    "    cleaned_products = []\n",
    "\n",
    "    # проходим по сырым данным и выбираем только нужные поля\n",
    "    for product in raw_products:\n",
    "        cleaned_products.append({\n",
    "            \"category_name\": category[\"name\"],\n",
    "            \"name\": product[\"name\"],\n",
    "            \"price\": product[\"price\"],\n",
    "            \"uom\": product[\"unit\"],\n",
    "            \"supermarket\": \"Co.op\"\n",
    "        })\n",
    "\n",
    "    return cleaned_products"
   ]
  },
  {
   "cell_type": "markdown",
   "id": "04f81a6f-1d70-4f65-af48-f172ab5f0274",
   "metadata": {},
   "source": [
    "#### 2.5. Сводим все вместе"
   ]
  },
  {
   "cell_type": "markdown",
   "id": "926cfd69-5e44-47e2-9b8a-fecc03d60e68",
   "metadata": {},
   "source": [
    "В следующей ячейке кода:\n",
    "\n",
    "1. Проходим по выбранным категориям, содержащим коды товаров,\n",
    "2. Получаем и очищаем данные по товарам каждой категории,\n",
    "3. Добавляем очищенные данные в общий CSV-файл, собирая полный набор данных.\n",
    "\n",
    "Для удобства отслеживания в процессе выводится количество загруженных товаров по каждой категории. Между итерациями добавляется небольшая случайная задержка, чтобы избежать ограничения по количеству запросов. Имя выходного файла содержит дату (`CHECK_DATE`), чтобы зафиксировать, когда данные были выгружены."
   ]
  },
  {
   "cell_type": "code",
   "execution_count": null,
   "id": "cc3fd336-2477-43a0-9b3d-7e0cde4bbfcd",
   "metadata": {},
   "outputs": [],
   "source": [
    "fetched_categories_count = 0    # счётчик категорий для отслеживания прогресса загрузки\n",
    "total_categories_count = len(categories)\n",
    "\n",
    "# создаём файл с заголовком таблицы для записи данных\n",
    "products_df = pd.DataFrame(columns=[\"category_name\", \"name\", \"price\", \"uom\", \"supermarket\"])\n",
    "products_df.to_csv(f'scraped_products-{CHECK_DATE}-coop.csv', index=False, mode='w')\n",
    "\n",
    "for category in categories:\n",
    "    \n",
    "    if category[\"item_codes\"] is not None: # проверяем, что категория не пустая\n",
    "        \n",
    "        raw_products = fetch_products(category) # загружаем товары\n",
    "        new_products = clean_product_data(category, raw_products) # извлекаем только необходимые данные и добавляем новые товары в список\n",
    "    \n",
    "        products_df = pd.DataFrame(new_products)\n",
    "        products_df.to_csv(f'scraped_products-{CHECK_DATE}-coop.csv', index=False, mode='a', header=False)\n",
    "\n",
    "        print(f'Категория \"{category[\"name\"]}\" обработана..', end='')\n",
    "    \n",
    "    else:\n",
    "        print(f'Пропускаем категорию \"{category[\"name\"]}\"..', end='')    \n",
    "    \n",
    "    fetched_categories_count += 1\n",
    "    print(f'Загружено {fetched_categories_count} из {total_categories_count} категорий')\n",
    "    \n",
    "    time.sleep(random.uniform(1, 5))\n",
    "\n",
    "print(f'Загрузка завершена. Результаты сохранены в файл scraped_products-{CHECK_DATE}-coop.csv')"
   ]
  },
  {
   "cell_type": "markdown",
   "id": "1e3de000-d6ad-4fad-b7d0-73db62428d00",
   "metadata": {},
   "source": [
    "### 3. Фильтрация и нормализация данных о товарах"
   ]
  },
  {
   "cell_type": "markdown",
   "id": "45b91537-a46c-4cb6-bbfa-f90cf79b0db5",
   "metadata": {},
   "source": [
    "После сбора и очистки исходных данных о продуктах мы переходим к фильтрации, чтобы включить только те товары, которые мы планируем сравнивать. Этот этап состоит из нескольких шагов:"
   ]
  },
  {
   "cell_type": "markdown",
   "id": "40ac9b41-70d2-4b49-a851-c51ec1e7502c",
   "metadata": {},
   "source": [
    "#### 3.1. Первичная обработка"
   ]
  },
  {
   "cell_type": "markdown",
   "id": "5a587403-0175-41eb-89db-eedbda38f337",
   "metadata": {},
   "source": [
    "Начинаем с загрузки ранее сохранённых данных о товарах и категориях.\n",
    "\n",
    "- Удаляем поле `category_name`, так как оно не нужно далее.\n",
    "- Удаляем повторяющиеся записи о товарах — они могли появиться, если один и тот же товар был в нескольких категориях.\n",
    "- Удаляем лишние пробелы в названиях товаров."
   ]
  },
  {
   "cell_type": "code",
   "execution_count": null,
   "id": "81fbb8a0-7e8e-4fc1-83c0-e53cd4ba0c06",
   "metadata": {},
   "outputs": [],
   "source": [
    "import pandas as pd\n",
    "import re\n",
    "\n",
    "categories = pd.read_csv('categories-2025-03-06-coop-complete.csv')\n",
    "products_original = pd.read_csv('scraped_products-2025-03-07-coop-complete.csv')\n",
    "\n",
    "products = products_original.drop(['category_name'], axis=1)    # удаляем поле category_name\n",
    "products = products.drop_duplicates() # удаляем дубли\n",
    "products.loc[:,'name'] = products['name'].str.strip() # удаляем лишние пробелы"
   ]
  },
  {
   "cell_type": "markdown",
   "id": "f6873408-f38b-44f2-8be9-576339f729a0",
   "metadata": {},
   "source": [
    "#### 3.2. Фильтрация товаров по типу"
   ]
  },
  {
   "cell_type": "markdown",
   "id": "37d19bf8-279b-4812-a1c1-de755a36c0bd",
   "metadata": {},
   "source": [
    "Чтобы выбрать из набора только релевантные для сравнения товары, мы создаём словарь с типами продуктов и соответствующими регулярными выражениями. Каждое выражение выбирает базовую форму продукта, исключая вариации, которые не входят в сферу нашего анализа.\n",
    "\n",
    "> **Примечание:** приведенные здесь регулярные выражения не универсальны и подобраны под конкретный набор данных."
   ]
  },
  {
   "cell_type": "code",
   "execution_count": null,
   "id": "aab2c9c2-2bff-45e8-b7a3-dac81a527e16",
   "metadata": {},
   "outputs": [],
   "source": [
    "product_regex_map = {\n",
    "    'rice': r'^gạo(?!.*(lứt|lức|dưỡng|nếp))',\n",
    "    'bread': r'^bánh (mì|mỳ|sandw|bag)(?!.*(bông|thịt|bơ|kem|hoa cúc|gà|pate|xốt|sữa|floss|socola|khoai|trứng|trong|hươu|nho|smile))',\n",
    "    'chicken_fillet': r'(file|phi lê|\\bức)(?!.*đùi).*gà',\n",
    "    'pork_leg': r'đùi.*heo',\n",
    "    'egg': r'^trứng gà(?!.*(ăn liền|tiềm|nướng|cay))', # выбирает \"trứng gà\", но исключает \"trứng vịt\" и готовые к употреблению яйца\n",
    "    'cucumber': r'^dưa.*leo',\n",
    "    'carrot': r'^cà rốt',\n",
    "    'onion': r'hành tây',\n",
    "    'tomato': r'^cà chua(?!.*(puree|đặc))',\n",
    "    'cabbage': r'bắp cải trắng',\n",
    "    'banana': r'^chuối(?!.*sấy)',\n",
    "    'orange': r'^cam\\b(?!.*sấy)',\n",
    "    'milk': r'^sữa (tươi|tiệt|dinh|vina)(?!.*(melon|chuối|trái cây|có đường|ít đường|soco|dâu|vani|trân châu|ngữ|choco|lacto))',\n",
    "    'yogurt': r'^sữa chua(?!.*(uống|men|khô|dẻo|ml))',\n",
    "    'condensed_milk': r'sữa đặc(?!.*xanh lá)',\n",
    "    'black_tea': (\n",
    "        r'^(hồng trà|trà\\b)'\n",
    "        r'(?!.*(ml|l\\b|xanh|sữa|khổ|sen|atiso|hoa cúc|ô long|olong|o long|green|ice|nestea|thảo|gừng|lài'\n",
    "        r'|matcha|chia|sâm|thế hệ|hà thủ|thái nguyên|15g|blendy|linh chi|happy|tân cương|huế|tết|thanh nhiệt))'),\n",
    "    'green_tea': (\n",
    "        r'^trà\\b'\n",
    "        r'(?!.*(ml|l\\b|sữa|khổ|atiso|hoa cúc|ice|nestea|thảo|gừng|matcha|chia|thế hệ|hà thủ|blendy|linh chi|happy'\n",
    "        r'|huế|thanh nhiệt|dilmah|twinings|tết|tim sen|chanh|tâm sen|đen|lipton|dâu|bạc hà|hàn quốc|đào|quất))'),\n",
    "    'ground_coffee': r'^(cà phê|cafe)(?!.*(hòa tan|hoà tan|sữa|in1|nesca|hạt|425g|bịch|fin|cino|hương))',\n",
    "    # ↑ выбирает молотый кофе, но исключает растворимый или кофе с добавками\n",
    "    'sugar': r'^đường\\s(tinh|trắng|mía|kính)',\n",
    "    'salt': r'^muối(?!.*(tôm|ớt|tiêu)).*(biển|iot|tinh|sạch)',\n",
    "    'sunflower_oil': r'^dầu.*hướng dương',\n",
    "    'soybean_oil': r'dầu.*nành',\n",
    "    'water': r'nước\\s(uống đóng|khoáng|tinh)(?!.*(ion|chanh|perr))',\n",
    "    'spaghetti': r'^mì(?!.*(kool|trộn|bò|omto|kem)).*(ý|spag|hair|buca)',\n",
    "    'rice_noodles': r'^(bún|phở)(?!.*(lứt|đen|60g|65g|\\sg$)).*(wai|minh hảo|nuffam|bình tây|sa đéc|saf|select|mikiri|hùng lô)',\n",
    "    'tofu': r'^(đậu|tàu)\\shũ(?!.*(chiên|trứng|cá\\b|nấm|hạt|ky))', # выбирает свежий тофу, исключает жареный и с добавками\n",
    "    'water_spinach': r'^rau.*muống',\n",
    "    'mango': r'^xoài(?!.*(sấy|ngâm))',\n",
    "    'fish_sauce': r'^nước mắm(?!.*(ớt|me\\b|gừng|chua\\b|chay|tỏi|ngừ|nục|ăn liền))'\n",
    "}\n",
    "product_regex_list = '|'.join(product_regex_map.values()) # объединяем все регулярные выражения в одно, используя оператор OR (|)\n",
    "\n",
    "# фильтруем товары, названия которых соответствуют одному из выбранных типов продуктов\n",
    "filtered_products = products.loc[products.name.str.contains(product_regex_list, case=False, regex=True)]"
   ]
  },
  {
   "cell_type": "markdown",
   "id": "9afc0972-ab6d-41da-98e4-78af7f8119a0",
   "metadata": {},
   "source": [
    "#### 3.3. Присвоение типа продукта"
   ]
  },
  {
   "cell_type": "markdown",
   "id": "96ded9e9-f1a1-4297-afee-77608dfc29e8",
   "metadata": {},
   "source": [
    "Каждому отфильтрованному товару присваивается метка с типом продукта на основе совпадения по регулярному выражению."
   ]
  },
  {
   "cell_type": "code",
   "execution_count": null,
   "id": "0b610ef6-6b31-4a16-ad2a-c5d96f6d0367",
   "metadata": {
    "scrolled": true
   },
   "outputs": [],
   "source": [
    "def assign_product_type(row):\n",
    "    name = row['name']\n",
    "    for product_type, regex in product_regex_map.items():\n",
    "        match = re.search(regex, name, flags=re.IGNORECASE)\n",
    "        if match:\n",
    "            return product_type\n",
    "    return None\n",
    "\n",
    "filtered_products = filtered_products.copy()  # создаём копию, чтобы избежать предупреждений при добавлении новых полей через .loc\n",
    "filtered_products.loc[:,'product_type'] = filtered_products.apply(assign_product_type, axis=1)\n",
    "\n",
    "# необязательный промежуточный вывод списка отфильтрованных товаров\n",
    "# with pd.option_context('display.max_rows', None, 'display.max_colwidth', None):\n",
    "#     display(filtered_products)"
   ]
  },
  {
   "cell_type": "markdown",
   "id": "9561d51e-b56a-4239-9073-5baf086cfd57",
   "metadata": {},
   "source": [
    "#### 3.4. Извлечение и нормализация единиц измерения"
   ]
  },
  {
   "cell_type": "markdown",
   "id": "004f26a5-561e-4f74-91d4-a7b64d9e6cd1",
   "metadata": {},
   "source": [
    "Разные единицы товаров отличаются по количеству, весу или объёмы. Чтобы сравнение было корректным, мы извлекаем нужную информацию из названия товара или единицы измерения и рассчитываем нормализованные показатели — цену за килограмм, литр или за штуку.\n",
    "\n",
    "- Вес в граммах\n",
    "- Количество штук (в частности, яиц)\n",
    "- Объём в миллилитрах\n",
    "\n",
    "Каждое из значений извлекается по шаблону (через регулярное выражение). Не все товары содержат все эти значения, поэтому соответствующие колонки с нормализованными ценами (*price_kg*, *price_lit*, *price_unit*) могут остаться пустыми для некоторых товаров."
   ]
  },
  {
   "cell_type": "code",
   "execution_count": null,
   "id": "a737994f-0f7c-44b8-b237-17d7fc3c96e2",
   "metadata": {},
   "outputs": [],
   "source": [
    "def extract_weight(row):\n",
    "    \"\"\"Извлекает общий вес в граммах из названия товара или единицы измерения.\n",
    "    Поддерживает как одиночные товары, так и формат нескольких упаковок в одном (например, '5x100g', '5 gói x 100g').\n",
    "    Если упомянуты только килограммы (явно или косвенно), по умолчанию устанавливает 1 кг.\n",
    "    \"\"\"\n",
    "    \n",
    "    name, uom = row['name'], row['uom']\n",
    "    \n",
    "    # формат с несколькими порциями (первым указан вес)\n",
    "    match = re.search(r'(\\d+|\\d+[,.]\\d+)\\s?(g\\b|gr\\b)\\s?(x|gói)\\s?(\\d+)', name, flags=re.IGNORECASE) # matches digits g х digits\n",
    "    if match:\n",
    "        portion = int(match.group(4)) # извлекаем количество порций\n",
    "        per_portion = float(match.group(1).replace(',', '.')) # извлекаем вес порции\n",
    "        return portion * per_portion # возвращаем общий вес\n",
    "    # формат с несколькими порциями (вес указан вторым)  \n",
    "    match = re.search(r'(\\d+)(\\s|\\shủ\\s?|\\shộp\\s?|\\sgói\\s?|\\stúi\\s?)?x\\s?(\\d+|\\d+[,.]\\d+)\\s?g\\b', name, flags=re.IGNORECASE)\n",
    "    if match:\n",
    "        portion = float(match.group(1).replace(',', '.'))\n",
    "        per_portion = float(match.group(3).replace(',', '.'))\n",
    "        return portion * per_portion\n",
    "    # одиночный вес (в граммах или килограммах)\n",
    "    match = re.search(r'(\\d+|\\d+[,.]\\d+)\\s?(g\\b|gr\\b|kg)', name, flags=re.IGNORECASE)\n",
    "    if match:\n",
    "        weight = float(match.group(1).replace(',', '.'))\n",
    "        unit = match.group(2)\n",
    "        return weight * 1000 if unit in ['kg','Kg'] else weight # преобразуем килограммы в граммы, если необходимо\n",
    "    # если в названии ничего нет, проверяем единицу измерения (uom)\n",
    "    if uom == 'kg':\n",
    "        weight = 1000\n",
    "        return weight\n",
    "    # если ничего из вышеуказанного не сработало, но в названии встречается 'kg'\n",
    "    match = re.search(r'kg', name, flags=re.IGNORECASE)\n",
    "    if match:\n",
    "        weight = 1000\n",
    "        return weight\n",
    "    \n",
    "    return None  # если ничего не найдено\n",
    "\n",
    "# следующие две функции работают по той же логике, что и extract_weight, но для штук и миллилитров\n",
    "def extract_number_of_units(row):\n",
    "    \"\"\"Извлекает количество единиц товара из названия или uom.\n",
    "    Поддерживает форматы типа '10x', '10 túi', '10 trứng'.\n",
    "    \"\"\"\n",
    "    \n",
    "    name, product_type, uom = row['name'], row['product_type'], row['uom']\n",
    "    \n",
    "    # проверяем название\n",
    "    match = re.search(r'(\\d+)\\s?(túi|gói|trứng|t\\b|x)', name, flags=re.IGNORECASE) # túi - пакет, gói - упаковка, trứng/t - яйцо\n",
    "    if match:\n",
    "        number_of_units = int(match.group(1))\n",
    "        return number_of_units\n",
    "   \n",
    "def extract_volume(row):\n",
    "    \"\"\"Извлекает общий объём в миллилитрах из названия товара.\n",
    "    Поддерживает как одиночные товары, так и формат нескольких упаковок в одном (например, '5x100ml', 'thùng 6 x 330ml').\n",
    "    \"\"\"\n",
    "    \n",
    "    name, uom = row['name'], row['uom']\n",
    "    \n",
    "    # формат с несколькими порциями (первым указан объём)\n",
    "    match = re.search(r'(\\d+|\\d+[,.]\\d+)\\s?(ml|l\\b|lít)\\s?(x|thùng)\\s?(\\d+)', name, flags=re.IGNORECASE) # thùng - коробка\n",
    "    if match:\n",
    "        portion = int(match.group(4))\n",
    "        per_portion = float(match.group(1).replace(',', '.'))\n",
    "        unit = match.group(2)\n",
    "        return portion * per_portion * 1000 if unit in ['l', 'L', 'lít'] else portion * per_portion\n",
    "    # формат с несколькими порциями (объём указан вторым)    \n",
    "    match = re.search(r'(\\d+)(\\s|\\sgói\\s?|\\sbịch\\s?|\\shộp\\s?|\\schai\\s?)?[x×]\\s?(\\d+|\\d+[,.]\\d+)\\s?(ml|l\\b|lít)',\n",
    "                      name, flags=re.IGNORECASE) # bịch - пакет, hộp - коробка, chai - бутылка\n",
    "    if match:\n",
    "        portion = int(match.group(1))\n",
    "        per_portion = float(match.group(3).replace(',', '.'))\n",
    "        unit = match.group(4)\n",
    "        return portion * per_portion * 1000 if unit in ['l', 'L', 'lít'] else portion * per_portion\n",
    "    # одиночный объём (в литрах или миллилитрах)\n",
    "    match = re.search(r'(\\d+|\\d+[,.]\\d+)\\s?(ml|l\\b|lít)', name, flags=re.IGNORECASE)\n",
    "    if match:\n",
    "        volume = float(match.group(1).replace(',', '.'))\n",
    "        unit = match.group(2)\n",
    "        return volume * 1000 if unit in ['l', 'L', 'lít'] else volume\n",
    "    \n",
    "    return None  # если ничего не найдено\n",
    "\n",
    "filtered_products = filtered_products.copy()  # пересоздаем датафрейм\n",
    "\n",
    "# вычисляем нормализованные цены\n",
    "filtered_products.loc[:,'weight'] = filtered_products.apply(extract_weight, axis=1)  # столбец с весом в граммах\n",
    "filtered_products.loc[:,'price_kg'] = filtered_products.price / filtered_products.weight * 1000   # столбец с ценой за кг\n",
    "\n",
    "filtered_products.loc[:,'number_of_units'] = filtered_products.apply(extract_number_of_units, axis=1)  # столбец с количеством штук\n",
    "filtered_products.loc[:,'price_unit'] = filtered_products.price / filtered_products.number_of_units   # столбец с ценой за штуку\n",
    "\n",
    "filtered_products.loc[:,'volume'] = filtered_products.apply(extract_volume, axis=1)  # столбец с объемом в мл\n",
    "filtered_products.loc[:,'price_lit'] = filtered_products.price / filtered_products.volume * 1000   # столбец с ценой за литр\n",
    "\n",
    "# необязательный промежуточный вывод\n",
    "# with pd.option_context('display.max_rows', None, 'display.max_colwidth', None):\n",
    "#     display(filtered_products)"
   ]
  },
  {
   "cell_type": "markdown",
   "id": "ca4d1a56-181c-434a-9fee-0bd9340f7e2a",
   "metadata": {},
   "source": [
    "#### 3.5. Сохранение финального отфильтрованного набора данных"
   ]
  },
  {
   "cell_type": "markdown",
   "id": "0edf9f31-9fba-471f-9a04-df5f93194b0b",
   "metadata": {},
   "source": [
    "Наконец, отфильтрованный и дополненный набор данных сохраняется в новый CSV-файл для дальнейшего анализа."
   ]
  },
  {
   "cell_type": "code",
   "execution_count": null,
   "id": "2ed0475b-0eae-43d8-8d4d-62324e3fbf57",
   "metadata": {},
   "outputs": [],
   "source": [
    "filtered_products.to_csv(f'filtered_products-2025-03-07-coop.csv')"
   ]
  }
 ],
 "metadata": {
  "kernelspec": {
   "display_name": "Python 3 (ipykernel)",
   "language": "python",
   "name": "python3"
  },
  "language_info": {
   "codemirror_mode": {
    "name": "ipython",
    "version": 3
   },
   "file_extension": ".py",
   "mimetype": "text/x-python",
   "name": "python",
   "nbconvert_exporter": "python",
   "pygments_lexer": "ipython3",
   "version": "3.10.11"
  }
 },
 "nbformat": 4,
 "nbformat_minor": 5
}
