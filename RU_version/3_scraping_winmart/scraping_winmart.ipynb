{
 "cells": [
  {
   "cell_type": "markdown",
   "id": "dde7cd50-703f-4771-bb42-04b899113438",
   "metadata": {},
   "source": [
    "### 1. Подготовка"
   ]
  },
  {
   "cell_type": "markdown",
   "id": "ca3a9bc1-b1a0-4547-bbf4-2f1dc3e67505",
   "metadata": {},
   "source": [
    "Чтобы подготовиться к сбору данных о товарах из [онлайн-магазина Winmart](https://winmart.vn/), импортируем необходимые библиотеки и задаём ключевые параметры для работы с API: базовый URL для получения категорий, текущую дату для отслеживания и заголовки запроса."
   ]
  },
  {
   "cell_type": "code",
   "execution_count": null,
   "id": "357155d0-4f45-48b3-86a7-9f4486be3351",
   "metadata": {},
   "outputs": [],
   "source": [
    "import requests\n",
    "import json\n",
    "import time\n",
    "import random\n",
    "import pandas as pd\n",
    "from datetime import date\n",
    "\n",
    "# задаём базовый URL и заголовки для запросов к сайту\n",
    "CATEGORIES_URL = \"https://api-crownx.winmart.vn/mt/api/web/v1/category\"\n",
    "CHECK_DATE = date.today() # текущая дата для маркировки файлов\n",
    "\n",
    "HEADERS = {\n",
    "    'origin': 'https://winmart.vn',\n",
    "    'user-agent': 'Mozilla/5.0 (Windows NT 10.0; Win64; x64) AppleWebKit/537.36 (KHTML, like Gecko) Chrome/133.0.0.0 Safari/537.36'\n",
    "}"
   ]
  },
  {
   "cell_type": "markdown",
   "id": "92351187-8d1b-4731-b66e-8f1faf8551bf",
   "metadata": {},
   "source": [
    "### 2. Веб-скрейпинг"
   ]
  },
  {
   "cell_type": "markdown",
   "id": "7af5f5db-8226-476a-adb4-fd988806c981",
   "metadata": {},
   "source": [
    "Чтобы извлечь данные о товарах с сайта Winmart, мы действуем поэтапно: загружаем список категорий, собираем данные по каждой категории, очищаем результаты и сохраняем всё в структурированном формате."
   ]
  },
  {
   "cell_type": "markdown",
   "id": "49eadb90-bad2-46d7-8267-43720272a2f7",
   "metadata": {},
   "source": [
    "#### 2.1. Получение категорий"
   ]
  },
  {
   "cell_type": "markdown",
   "id": "fbe11cbd-ac16-424a-9426-027c293cc7b5",
   "metadata": {},
   "source": [
    "Начинаем с получения списка товарных категорий через API Winmart. Функция извлекает нужные поля (*code*, *name*, родительскую категорию, флаг наличия подкатегорий, *slug* — используется для построения URL, и *level*) и возвращает очищенный список.\n",
    "\n",
    "Каждая категория определяется числовым кодом и slug-идентификатором. Числовой код не необходим для последующих запросов, а вот slug нужен для составления корректного URL запроса."
   ]
  },
  {
   "cell_type": "code",
   "execution_count": null,
   "id": "6fe956d8-332a-4772-98b8-deb105f60b27",
   "metadata": {},
   "outputs": [],
   "source": [
    "def fetch_categories():\n",
    "    \n",
    "    response = requests.get(CATEGORIES_URL, headers=HEADERS) # получаем данные о категориях от API\n",
    "    raw_categories = json.loads(response.text) # преобразуем JSON-ответ в список словарей с категориями\n",
    "\n",
    "    cleaned_categories = []\n",
    "    \n",
    "    # проходим по категориям верхнего уровня и выбираем только нужные поля\n",
    "    for category in raw_categories[\"data\"]:\n",
    "        cleaned_categories.append({\n",
    "            \"code\": category[\"parent\"][\"code\"],  # числовой код для последующего запроса товаров\n",
    "            \"name\": category[\"parent\"][\"name\"],  # название для справки\n",
    "            \"parent_id\": None,   # код и имя родительской категории \n",
    "            \"parent_name\": None, # на верхнем уровне нет родителя, но поле добавлено для унификации\n",
    "            \"has_child\": True if category[\"lstChild\"] else False, # True, если у категории есть подкатегории — важно для загрузки товаров далее\n",
    "            \"slug\": category[\"parent\"][\"seoName\"], # имя категории, используемое в запросах для получения товаров\n",
    "            \"level\": category[\"parent\"][\"level\"] # уровень вложенности категории\n",
    "        })\n",
    "        if category[\"lstChild\"]:    # если есть подкатегории, проходим по ним тоже\n",
    "            for child in category[\"lstChild\"]:\n",
    "                cleaned_categories.append({\n",
    "                    \"code\": child[\"parent\"][\"code\"],\n",
    "                    \"name\": child[\"parent\"][\"name\"],\n",
    "                    \"parent_id\": category[\"parent\"][\"code\"],\n",
    "                    \"parent_name\": category[\"parent\"][\"name\"],\n",
    "                    \"has_child\": False,\n",
    "                    \"slug\": child[\"parent\"][\"seoName\"],\n",
    "                    \"level\": child[\"parent\"][\"level\"]\n",
    "                })\n",
    "\n",
    "    return cleaned_categories"
   ]
  },
  {
   "cell_type": "markdown",
   "id": "b3e3dc24-380b-4fb5-8d1f-1d54873ac51d",
   "metadata": {},
   "source": [
    "Мы получаем все доступные категории и сохраняем их в CSV-файл — чтобы данные было удобно просматривать и при необходимости повторно использовать. Для сбора данных о товарах используются только самые нижние категории (те, у которых нет подкатегорий) — они меньше, это снижает риск блокировки и потери данных при ошибке запроса."
   ]
  },
  {
   "cell_type": "code",
   "execution_count": null,
   "id": "3d945e47-de47-4533-8aa7-648c53610ded",
   "metadata": {
    "scrolled": true
   },
   "outputs": [],
   "source": [
    "categories = fetch_categories()\n",
    "categories_df = pd.DataFrame(categories)\n",
    "categories_df.to_csv(f'categories-{CHECK_DATE}-winmart.csv', index=False)"
   ]
  },
  {
   "cell_type": "code",
   "execution_count": null,
   "id": "9fdd94b2-09eb-4bfa-af19-70605a02e1f2",
   "metadata": {},
   "outputs": [],
   "source": [
    "# необязательный промежуточный вывод списка категорий\n",
    "# with pd.option_context('display.max_rows', None, 'display.max_colwidth', None):\n",
    "#     display(categories_df)"
   ]
  },
  {
   "cell_type": "code",
   "execution_count": null,
   "id": "6619d3a5-595c-481d-8298-06439601407c",
   "metadata": {},
   "outputs": [],
   "source": [
    "categories_end = [cat for cat in categories if not cat['has_child']] # выбираем только категории без подкатегорий\n",
    "# categories_end = categories_end[:] # эту строку можно использовать, чтобы продолжить сбор данных с определённого места в случае ошибки\n",
    "total_categories_count = len(categories_end)"
   ]
  },
  {
   "cell_type": "markdown",
   "id": "32abcb46-37b9-4052-8136-063ab2832642",
   "metadata": {},
   "source": [
    "#### 2.2. Получение исходных данных о товарах"
   ]
  },
  {
   "cell_type": "markdown",
   "id": "037b54c4-039f-42e6-9ace-7686ec77b8d4",
   "metadata": {},
   "source": [
    "Списки товаров получаются от API сайта, который возвращает данные порциями (страницами). Каждый запрос требует указания slug категории, номера страницы и других параметров: размера страницы (обычно 8 товаров), кода магазина и кода группы магазинов.\n",
    "\n",
    "При заходе на страницу категории API загружает первые 8 товаров, а при прокрутке страница отправляет дополнительные запросы для получения следующей группы товаров. Первый запрос также возвращает общее количество страниц, что позволяет определить общее количество запросов для данной категории.\n",
    "\n",
    "Мы проходим по всем страницам выбранной категории, добавляя случайную задержку между запросами, чтобы снизить риск блокировки или ограничения частоты запросов. В результате получаем «сырую» информацию о товарах в формате JSON."
   ]
  },
  {
   "cell_type": "code",
   "execution_count": null,
   "id": "1553fe2a-603c-42c7-ada8-51431ceb86f2",
   "metadata": {},
   "outputs": [],
   "source": [
    "def fetch_products(category):\n",
    "    \n",
    "    products = []\n",
    "\n",
    "    # задаём URL и параметры для запроса\n",
    "    ITEMS_URL = \"https://api-crownx.winmart.vn/it/api/web/v3/item/category\"\n",
    "    PARAMS = {\n",
    "            'orderByDesc': 'true',\n",
    "            'pageNumber': '1',\n",
    "            'pageSize': '8', # устанавливаем равным 8 — это соответствует поведению сайта\n",
    "            'slug': category[\"slug\"],\n",
    "            'storeCode': '1561',\n",
    "            'storeGroupCode': '1999',\n",
    "        }\n",
    "    \n",
    "    response = requests.get(ITEMS_URL, headers=HEADERS, params=PARAMS) # запрашиваем первую страницу товаров\n",
    "    response_data = json.loads(response.text)\n",
    "    total_pages = response_data[\"paging\"][\"totalPages\"] # получаем общее количество страниц товаров\n",
    "    \n",
    "    for page in range(1, total_pages + 1):\n",
    "        \n",
    "        time.sleep(random.uniform(1, 5)) # случайная задержка, чтобы избежать блокировки или ограничений\n",
    "        \n",
    "        PARAMS = {\n",
    "            'orderByDesc': 'true',\n",
    "            'pageNumber': str(page),\n",
    "            'pageSize': '8',\n",
    "            'slug': category['slug'],\n",
    "            'storeCode': '1561',\n",
    "            'storeGroupCode': '1999',\n",
    "        }\n",
    "    \n",
    "        response = requests.get(ITEMS_URL, headers=HEADERS, params=PARAMS) # получаем данные о товарах на текущей странице\n",
    "        response_data = json.loads(response.text)\n",
    "        products += response_data[\"data\"][\"items\"] # извлекаем только товары и добавляем их в список\n",
    "        \n",
    "        print(f'{len(products)}..', end='') # индикатор прогресса\n",
    "\n",
    "    return products   "
   ]
  },
  {
   "cell_type": "markdown",
   "id": "42985df1-e564-46a3-a383-84aec39147ba",
   "metadata": {},
   "source": [
    "#### 2.3. Очистка данных о товарах"
   ]
  },
  {
   "cell_type": "markdown",
   "id": "26bbf0f4-3784-4018-8953-a49e8aaef5c8",
   "metadata": {},
   "source": [
    "Далее мы определяем функцию, которая извлекает из сырых данных только необходимые поля:\n",
    "\n",
    "- Идентификатор категории (для справки)\n",
    "- Название товара\n",
    "- Цена\n",
    "- Единица измерения\n",
    "- Название супермаркета\n",
    "\n",
    "В итоге получается очищенный список товаров, готовый к сохранению или дальнейшему анализу."
   ]
  },
  {
   "cell_type": "code",
   "execution_count": null,
   "id": "e68de3af-01af-4979-8113-93757e5df6e3",
   "metadata": {},
   "outputs": [],
   "source": [
    "def clean_product_data(category, raw_products):\n",
    "\n",
    "    cleaned_products = []\n",
    "\n",
    "    # проходим по сырым данным и выбираем только нужные поля\n",
    "    for product in raw_products:\n",
    "        cleaned_products.append({\n",
    "            \"category_code\": category[\"code\"],\n",
    "            \"name\": product[\"name\"],\n",
    "            \"price\": product[\"price\"],\n",
    "            \"uom\": product[\"uom\"],\n",
    "            \"supermarket\": 'Winmart' # название супермаркета как источника данных\n",
    "        })\n",
    "\n",
    "    return cleaned_products"
   ]
  },
  {
   "cell_type": "markdown",
   "id": "49d9d8a9-14c0-4d00-a79a-d641832322d0",
   "metadata": {},
   "source": [
    "#### 2.4. Сводим все вместе"
   ]
  },
  {
   "cell_type": "markdown",
   "id": "c276533e-40ad-4626-8d44-bad9a645c2e5",
   "metadata": {},
   "source": [
    "В следующей ячейке кода:\n",
    "\n",
    "1. Проходим по выбранным категориям нижнего уровня (категориям без подкатегорий),\n",
    "2. Получаем и очищаем данные по товарам каждой категории,\n",
    "3. Добавляем очищенные данные в общий CSV-файл, собирая полный набор данных.\n",
    "\n",
    "Для удобства отслеживания в процессе выводится количество загруженных товаров по каждой категории. Между итерациями добавляется небольшая случайная задержка, чтобы избежать ограничения по количеству запросов. Имя выходного файла содержит дату (`CHECK_DATE`), чтобы зафиксировать, когда данные были выгружены."
   ]
  },
  {
   "cell_type": "code",
   "execution_count": null,
   "id": "c625c17e-d516-467a-b13f-42ed9870bfc5",
   "metadata": {
    "scrolled": true
   },
   "outputs": [],
   "source": [
    "fetched_categories_count = 0    # счётчик категорий для отслеживания прогресса загрузки\n",
    "\n",
    "# создаём файл с заголовком таблицы для записи данных\n",
    "products_df = pd.DataFrame(columns=[\"category_code\", \"name\", \"price\", \"uom\", \"supermarket\"])\n",
    "products_df.to_csv(f'scraped_products-{CHECK_DATE}-winmart.csv', index=False, mode='w')\n",
    "\n",
    "for category in categories_end:\n",
    "    \n",
    "    raw_products = fetch_products(category) # загружаем товары\n",
    "    new_products = clean_product_data(category, raw_products) # извлекаем только необходимые данные и добавляем новые товары в список\n",
    "\n",
    "    products_df = pd.DataFrame(new_products)\n",
    "    products_df.to_csv(f'scraped_products-{CHECK_DATE}-winmart.csv', index=False, mode='a', header=False)\n",
    "\n",
    "    fetched_categories_count += 1\n",
    "    print(f'Категория {category[\"code\"]} обработана, загружено {fetched_categories_count} из {total_categories_count} категорий')\n",
    "    \n",
    "    time.sleep(random.uniform(1, 5))\n",
    "\n",
    "print(f'Загрузка завершена. Результаты сохранены в файл scraped_products-{CHECK_DATE}-winmart.csv')"
   ]
  },
  {
   "cell_type": "markdown",
   "id": "156663e5-e5e8-4627-ac1e-86f9a37fd0a9",
   "metadata": {},
   "source": [
    "### 3. Фильтрация и нормализация данных о товарах"
   ]
  },
  {
   "cell_type": "markdown",
   "id": "3da31242-f91f-4db5-bc03-be2097be620d",
   "metadata": {},
   "source": [
    "После сбора и очистки исходных данных о продуктах мы переходим к фильтрации, чтобы включить только те товары, которые мы планируем сравнивать. Этот этап состоит из нескольких шагов:"
   ]
  },
  {
   "cell_type": "markdown",
   "id": "6c5c9388-60b1-4115-a842-ab4366bcea46",
   "metadata": {},
   "source": [
    "#### 3.1. Первичная обработка"
   ]
  },
  {
   "cell_type": "markdown",
   "id": "bef7d6e8-fc83-4b99-86db-236b1f90fc44",
   "metadata": {},
   "source": [
    "Начинаем с загрузки ранее сохранённых данных с товарами и категориями.\n",
    "\n",
    "- Удаляем поле `category_code`, так как оно не нужно для следующих шагов.\n",
    "- Удаляем дублирующиеся записи товаров — они могли появиться, если один и тот же товар принадлежал к нескольким категориям.\n",
    "- Также удаляем лишние пробелы в названиях товаров, чтобы привести их к единому виду."
   ]
  },
  {
   "cell_type": "code",
   "execution_count": null,
   "id": "d9763d85-3a2d-48d0-9459-da05ce72cbee",
   "metadata": {},
   "outputs": [],
   "source": [
    "import pandas as pd\n",
    "import re\n",
    "\n",
    "categories = pd.read_csv('categories-2025-03-06-winmart.csv')\n",
    "products_original = pd.read_csv('scraped_products-2025-03-06-winmart-complete.csv')\n",
    "\n",
    "products = products_original.drop(['category_code'], axis=1)    # удаляем поле category_code\n",
    "products = products.drop_duplicates() # удаляем дубли\n",
    "products['name'] = products['name'].str.strip() # удаляем лишние пробелы"
   ]
  },
  {
   "cell_type": "markdown",
   "id": "401fd19d-1a65-4885-9ea1-deb2dace1953",
   "metadata": {},
   "source": [
    "#### 3.2. Фильтрация товаров по типу"
   ]
  },
  {
   "cell_type": "markdown",
   "id": "7f7b30a2-fbb2-469d-ac53-0cabc4c12209",
   "metadata": {},
   "source": [
    "Чтобы выбрать из набора только релевантные для сравнения товары, мы создаём словарь с типами продуктов и соответствующими регулярными выражениями. Каждое выражение выбирает базовую форму продукта, исключая вариации, которые не входят в сферу нашего анализа.\n",
    "\n",
    "> **Примечание:** приведенные здесь регулярные выражения не универсальны и подобраны под конкретный набор данных."
   ]
  },
  {
   "cell_type": "code",
   "execution_count": null,
   "id": "1b8a428c-a3ed-4f8e-aa7d-483d24ccdae7",
   "metadata": {},
   "outputs": [],
   "source": [
    "product_regex_map = {\n",
    "    'rice': r'^gạo(?!.*lứt)',\n",
    "    'bread': r'^bánh (mì|mỳ|sandwich)(?!.*(bơ|hoa|chà|thịt))',\n",
    "    'chicken_fillet': r'(fillet|phi lê|\\bức)(?!.*đùi).*gà',\n",
    "    'pork_leg': r'đùi.*heo',\n",
    "    'egg': r'^trứng gà',\n",
    "    'cucumber': r'^dưa.*(chuột|leo)(?!.*ngâm)',\n",
    "    'carrot': r'^cà rốt',\n",
    "    'onion': r'^hành tây',\n",
    "    'tomato': r'^cà chua',\n",
    "    'cabbage': r'bắp cải trắng', # выбирает \"bắp cải trắng\", но исключает другие разновидности, как \"bắp cải tím\"\n",
    "    'eggplant': r'cà tím',\n",
    "    'banana': r'^chuối(?!.*sấy)',\n",
    "    'orange': r'^cam',\n",
    "    'milk': r'^(thùng.*sữa|sữa|lốc.*sữa)(?!.*(vị|hương|có đường|ít đường|socola|sô cô la|dâu|chua|lên men|bắp|lact|yến)).*(trùng|tươi|tự nhiên)',\n",
    "     # ↑ выбирает простое свежее молоко и исключает молоко с добавками или сахаром и кисломолочные продукты\n",
    "    'yogurt': r'^(sữa chua|lốc.*hộp.*sữa chua)(?!.*(uống|lên men|fristi|chai))',\n",
    "    'condensed_milk': r'sữa đặc',\n",
    "    'black_tea': r'^trà\\b(?!.*(ml|l\\b|lít|sữa|gừng|nestea|atiso|ice|xanh|ô long|nhài|tôm|thái|hòa tan|zoga))',\n",
    "    # ↑ выбирает чаи, но исключает все разновидности зеленого чая, а также порошковый и готовый холодный чай\n",
    "    'green_tea': r'^trà\\b(?!.*(ml|l\\b|lít|sữa|gừng|nestea|atiso|ice|đen|hòa tan|zoga|hoa cúc|ceylon|đào))',\n",
    "    'ground_coffee': r'^(cà phê|café)(?!.*hòa tan).*(bột|xay|sáng|chế phin|nâu|khát)',\n",
    "    'sugar': r'^đường.*(pure|trắng|mía)',\n",
    "    'salt': r'^muối.*biển', # выбирает \"muối biển\", но исключает соль с примесями, как, например, \"muối tôm\"\n",
    "    'sunflower_oil': r'dầu.*hướng dương',\n",
    "    'soybean_oil': r'dầu.*nành',\n",
    "    'water': r'^nước (uống|khoáng|tinh)(?!.*(vị|sữa|tăng|ion))',\n",
    "    'spaghetti': r'^mì(?!.*(kool|xốt)).*(ý|spag)',\n",
    "    'rice_noodles': r'^bún.*safoco',\n",
    "    'tofu': r'^(đậu|tàu) hũ(?!.*(chiên|trứng))',\n",
    "    'water_spinach': r'^rau.*muống',\n",
    "    'mango': r'^xoài(?!.*sấy)',\n",
    "    'fish_sauce': r'^nước mắm(?!.*ớt)'\n",
    "}\n",
    "product_regex_list = '|'.join(product_regex_map.values()) # объединяем все регулярные выражения в одно, используя оператор OR (|)\n",
    "\n",
    "# фильтруем товары, названия которых соответствуют одному из выбранных типов продуктов\n",
    "filtered_products = products.loc[products.name.str.contains(product_regex_list, case=False, regex=True)]"
   ]
  },
  {
   "cell_type": "markdown",
   "id": "26559e12-18a5-4204-a146-1f6afa53f800",
   "metadata": {},
   "source": [
    "#### 3.3. Присвоение типа продукта"
   ]
  },
  {
   "cell_type": "markdown",
   "id": "555f6044-3f4d-4898-81a2-5df42ff2e3a3",
   "metadata": {},
   "source": [
    "Каждому отфильтрованному товару присваивается метка с типом продукта на основе совпадения по регулярному выражению."
   ]
  },
  {
   "cell_type": "code",
   "execution_count": null,
   "id": "989c442a-3595-4e76-9515-95ee29d09171",
   "metadata": {},
   "outputs": [],
   "source": [
    "def assign_product_type(row):\n",
    "    name = row['name']\n",
    "    for product_type, regex in product_regex_map.items():\n",
    "        match = re.search(regex, name, flags=re.IGNORECASE)\n",
    "        if match:\n",
    "            return product_type\n",
    "    return None\n",
    "\n",
    "filtered_products = filtered_products.copy()  # создаём копию, чтобы избежать предупреждений при добавлении новых полей через .loc\n",
    "filtered_products.loc[:,'product_type'] = filtered_products.apply(assign_product_type, axis=1)\n",
    "\n",
    "# необязательный промежуточный вывод списка отфильтрованных товаров\n",
    "# with pd.option_context('display.max_rows', None, 'display.max_colwidth', None):\n",
    "#     display(filtered_products)"
   ]
  },
  {
   "cell_type": "markdown",
   "id": "b04e4f9a-a700-480f-a4fe-b0deb07d2434",
   "metadata": {},
   "source": [
    "#### 3.4. Извлечение и нормализация единиц измерения"
   ]
  },
  {
   "cell_type": "markdown",
   "id": "abf512d2-aa14-4e6a-b06b-c7237dee2918",
   "metadata": {},
   "source": [
    "Разные единицы товаров отличаются по количеству, весу или объёмы. Чтобы сравнение было корректным, мы извлекаем нужную информацию из названия товара или единицы измерения и рассчитываем нормализованные показатели — цену за килограмм, литр или за штуку.\n",
    "\n",
    "- Вес в граммах\n",
    "- Количество штук (в частности, яиц)\n",
    "- Объём в миллилитрах\n",
    "\n",
    "Каждое из значений извлекается по шаблону (через регулярное выражение). Не все товары содержат все эти значения, поэтому соответствующие колонки с нормализованными ценами (*price_kg*, *price_lit*, *price_unit*) могут остаться пустыми для некоторых товаров."
   ]
  },
  {
   "cell_type": "code",
   "execution_count": null,
   "id": "7c617f1a-5d5a-41df-b680-e2bfd427bc4f",
   "metadata": {},
   "outputs": [],
   "source": [
    "def extract_weight(row):\n",
    "    \"\"\"Извлекает общий вес в граммах из названия товара или поля uom.\"\"\"\n",
    "    \n",
    "    name, uom = row['name'], row['uom']\n",
    "    \n",
    "    # некоторые товары продаются комплектами, это указано в uom (например, 'G3' означает 3 упак.)\n",
    "    match = re.search(r'G(\\d)', uom)\n",
    "    if match:\n",
    "        number = int(match.group(1))\n",
    "    elif uom == 'T': # если uom = 'T' (thùng — коробка), количество упаковок в коробке указывается в названии\n",
    "        match = re.search(r'(\\d+)\\s?(gói|hộp|túi)', name, flags=re.IGNORECASE)\n",
    "        if match:\n",
    "            number = int(match.group(1))\n",
    "    else:\n",
    "        number = 1 # если информации нет — считаем, что одна штука\n",
    "    # проверяем, указан ли вес в названии\n",
    "    match = re.search(r'(\\d+|\\d+[,.]\\d+)\\s?(g\\b|kg)', name, flags=re.IGNORECASE)\n",
    "    if match:\n",
    "        weight = float(match.group(1).replace(',', '.')) # извлекаем вес\n",
    "        unit = match.group(2)\n",
    "        return number * weight * 1000 if unit in ['kg','Kg'] else number * weight # переводим кг в граммы при необходимости\n",
    "    # проверяем uom\n",
    "    if uom == 'KG':\n",
    "        weight = 1000\n",
    "        return weight\n",
    "    \n",
    "    return None  # если ничего не найдено\n",
    "\n",
    "# следующие две функции работают по той же логике, что и extract_weight, но для штук и миллилитров\n",
    "def extract_number_of_units(row):\n",
    "    \"\"\"Извлекает количество штук из названия товара или поля uom\n",
    "    (quả, trái ~ штука).\n",
    "    \"\"\"\n",
    "    \n",
    "    name, product_type, uom = row['name'], row['product_type'], row['uom']\n",
    "    \n",
    "    # проверяем название\n",
    "    match = re.search(r'(\\d+)\\s?(quả|trái)', name, flags=re.IGNORECASE)\n",
    "    if match:\n",
    "        number_of_units = int(match.group(1))\n",
    "        return number_of_units\n",
    "    # для яиц берём любое число из названия (Winmart обозначает это именно так)\n",
    "    match = re.search(r'(\\d+)', name)\n",
    "    if match and product_type == 'egg':\n",
    "        number_of_units = int(match.group(1))\n",
    "        return number_of_units\n",
    "    \n",
    "    return None  # если ничего не найдено\n",
    "\n",
    "def extract_volume(row):\n",
    "    \"\"\"Извлекает объём в миллилитрах из названия товара или поля uom.\"\"\"\n",
    "    \n",
    "    name, uom = row['name'], row['uom']\n",
    "    \n",
    "    # проверка на комплект упаковок\n",
    "    match = re.search(r'G(\\d)', uom)\n",
    "    if match:\n",
    "        number = int(match.group(1))\n",
    "    elif uom == 'T':\n",
    "        match = re.search(r'(\\d+)\\s?(gói|hộp|túi|chai)', name, flags=re.IGNORECASE) # (hộp - коробка, túi - пакет, chai - бутылка)\n",
    "        if match:\n",
    "            number = int(match.group(1))\n",
    "        else:\n",
    "            number = 0\n",
    "    else:\n",
    "        number = 1\n",
    "    # ищем указание объёма в названии\n",
    "    match = re.search(r'(\\d+|\\d+[,.]\\d+)\\s?(ml|l\\b|lít)', name, flags=re.IGNORECASE)\n",
    "    if match:\n",
    "        volume = float(match.group(1).replace(',', '.'))\n",
    "        unit = match.group(2)\n",
    "        return number * volume * 1000 if unit in ['l', 'L', 'lít'] else number * volume\n",
    "\n",
    "    return None  # если ничего не найдено\n",
    "\n",
    "filtered_products = filtered_products.copy()  # пересоздаем датафрейм\n",
    "\n",
    "# вычисляем нормализованные цены\n",
    "filtered_products.loc[:,'weight'] = filtered_products.apply(extract_weight, axis=1)  # столбец с весом в граммах\n",
    "filtered_products.loc[:,'price_kg'] = filtered_products.price / filtered_products.weight * 1000   # столбец с ценой за кг\n",
    "\n",
    "filtered_products.loc[:,'number_of_units'] = filtered_products.apply(extract_number_of_units, axis=1)  # столбец с количеством штук\n",
    "filtered_products.loc[:,'price_unit'] = filtered_products.price / filtered_products.number_of_units   # столбец с ценой за штуку\n",
    "\n",
    "filtered_products.loc[:,'volume'] = filtered_products.apply(extract_volume, axis=1)  # столбец с объемом в мл\n",
    "filtered_products.loc[:,'price_lit'] = filtered_products.price / filtered_products.volume * 1000   # столбец с ценой за литр\n",
    "\n",
    "# необязательный промежуточный вывод\n",
    "# with pd.option_context('display.max_rows', None, 'display.max_colwidth', None):\n",
    "#     display(filtered_products)"
   ]
  },
  {
   "cell_type": "markdown",
   "id": "4e6e0184-e619-4342-bc55-987fc8b9d36e",
   "metadata": {},
   "source": [
    "#### 3.5. Сохранение финального отфильтрованного набора данных"
   ]
  },
  {
   "cell_type": "markdown",
   "id": "d7dba959-3014-40d3-8c82-d986901d0913",
   "metadata": {},
   "source": [
    "Наконец, отфильтрованный и дополненный набор данных сохраняется в новый CSV-файл для дальнейшего анализа."
   ]
  },
  {
   "cell_type": "code",
   "execution_count": null,
   "id": "256d5d6d-8ed4-4320-88d8-a340ffa2280c",
   "metadata": {},
   "outputs": [],
   "source": [
    "filtered_products.to_csv(f'filtered_products-2025-03-06-winmart.csv')"
   ]
  }
 ],
 "metadata": {
  "kernelspec": {
   "display_name": "Python 3 (ipykernel)",
   "language": "python",
   "name": "python3"
  },
  "language_info": {
   "codemirror_mode": {
    "name": "ipython",
    "version": 3
   },
   "file_extension": ".py",
   "mimetype": "text/x-python",
   "name": "python",
   "nbconvert_exporter": "python",
   "pygments_lexer": "ipython3",
   "version": "3.10.11"
  }
 },
 "nbformat": 4,
 "nbformat_minor": 5
}
