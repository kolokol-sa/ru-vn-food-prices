{
 "cells": [
  {
   "cell_type": "markdown",
   "id": "eff98e77-5e92-472a-8473-6e79cbc5ce8b",
   "metadata": {},
   "source": [
    "### 1. Setup and Data Loading"
   ]
  },
  {
   "cell_type": "markdown",
   "id": "d9394cd8-d828-46a3-b53b-f0030ef8d8e3",
   "metadata": {},
   "source": [
    "In this notebook, we'll integrate the filtered datasets from all supermarkets and perform the final round of cleaning."
   ]
  },
  {
   "cell_type": "code",
   "execution_count": 1,
   "id": "6dcd35bc-cb70-4583-b20b-f26da99fd494",
   "metadata": {},
   "outputs": [],
   "source": [
    "import pandas as pd"
   ]
  },
  {
   "cell_type": "markdown",
   "id": "405b9160-7eeb-4f67-a02c-6f4a30616eaf",
   "metadata": {},
   "source": [
    "We begin by loading the cleaned product lists for each supermarket:"
   ]
  },
  {
   "cell_type": "code",
   "execution_count": 2,
   "id": "9f124dd3-fc87-4d62-8f11-e320abc2a5a3",
   "metadata": {},
   "outputs": [],
   "source": [
    "pyaterochka = pd.read_csv('filtered_products-2025-03-03-pyaterochka.csv')\n",
    "lenta = pd.read_csv('filtered_products-2025-03-04-lenta.csv')\n",
    "winmart = pd.read_csv('filtered_products-2025-03-06-winmart.csv')\n",
    "coop = pd.read_csv('filtered_products-2025-03-07-coop.csv')"
   ]
  },
  {
   "cell_type": "markdown",
   "id": "33d6e91a-495d-4f84-98b7-ae670d64e98d",
   "metadata": {},
   "source": [
    "Each product entry includes raw and normalized prices, quantity information (weight, volume, or number of units), its type (e.g., rice, milk, tea) and supermarket."
   ]
  },
  {
   "cell_type": "markdown",
   "id": "b7519f1c-0fe3-49a4-aa26-d21cee53a409",
   "metadata": {},
   "source": [
    "### 2. Basic Cleaning and Preparation"
   ]
  },
  {
   "cell_type": "markdown",
   "id": "373ec98c-6ff9-4108-96df-84c164240061",
   "metadata": {},
   "source": [
    "We drop residual index columns from CSV exports and standardize column names:"
   ]
  },
  {
   "cell_type": "code",
   "execution_count": 3,
   "id": "8a8c53bb-854d-423e-b162-3062831fb957",
   "metadata": {},
   "outputs": [],
   "source": [
    "pyaterochka = pyaterochka.drop('id', axis=1).rename(columns={'pricing_unit': 'uom'})\n",
    "lenta = lenta.drop(lenta.columns[0], axis=1).rename(columns={'pricing_unit': 'uom'})\n",
    "winmart = winmart.drop(winmart.columns[0], axis=1)\n",
    "coop = coop.drop(coop.columns[0], axis=1)"
   ]
  },
  {
   "cell_type": "markdown",
   "id": "af431684-ec8b-4360-bae0-80802946ea71",
   "metadata": {},
   "source": [
    "All product data is combined into a single DataFrame."
   ]
  },
  {
   "cell_type": "code",
   "execution_count": 4,
   "id": "a63b248a-aedf-40dd-850f-4c7874a6abb6",
   "metadata": {},
   "outputs": [],
   "source": [
    "all_products = pd.concat([pyaterochka, lenta, winmart, coop], ignore_index=True)"
   ]
  },
  {
   "cell_type": "markdown",
   "id": "cbf93eb3-2ea5-4107-a085-d2f486410adf",
   "metadata": {},
   "source": [
    "### 3. Manual Fixes and Adjustments"
   ]
  },
  {
   "cell_type": "markdown",
   "id": "bcfd889f-37b0-42c7-9a68-330f335099f7",
   "metadata": {},
   "source": [
    "Based on manual inspection, we drop incorrect or irrelevant rows and add any missing items to the dataset."
   ]
  },
  {
   "cell_type": "code",
   "execution_count": 5,
   "id": "25afd7ea-7760-433f-84fe-c0278b8c70e1",
   "metadata": {},
   "outputs": [
    {
     "name": "stderr",
     "output_type": "stream",
     "text": [
      "C:\\Users\\Just Alex\\AppData\\Local\\Temp\\ipykernel_1636\\2282818764.py:13: FutureWarning: The behavior of DataFrame concatenation with empty or all-NA entries is deprecated. In a future version, this will no longer exclude empty or all-NA columns when determining the result dtypes. To retain the old behavior, exclude the relevant entries before the concat operation.\n",
      "  all_products.loc[10000] = ['Cà tím màng co', 25500, 'kg', 'eggplant', 'Co.op', 1000, 25500, None, None, None, None]\n"
     ]
    }
   ],
   "source": [
    "# drop irrelevant variants that are out of the scope of our analysis\n",
    "all_products = all_products.drop([684, 224]) # brown rice\n",
    "all_products = all_products.drop(1877) # wrong type of eggs\n",
    "all_products = all_products.drop(1683) # oranges without weight\n",
    "all_products = all_products.drop([1470, 1506]) # not sweetened condensed milk\n",
    "all_products = all_products.drop([108, 124, 129, 114, 118, 115, 131, 130, 421, 422, 419, 420, 418, 117, 1662]) # drinking yogurt\n",
    "all_products = all_products.drop([575, 566, 565, 564, 365, 360, 359, 560, 559, 576, 506]) # coffee in drip boxes\n",
    "all_products = all_products.drop([1294, 1297, 292, 289, 1304, 2310]) # non-white sugar or liquid sugar (2310)\n",
    "all_products = all_products.drop([443]) # non-wheat spaghetti\n",
    "all_products = all_products.drop([1499, 1495, 1493, 1498, 1489, 1497, 1478, 202]) # non-rice noodles\n",
    "\n",
    "# add an eggplant entry that wasn't in the dataset but is present in the supermarket\n",
    "all_products.loc[10000] = ['Cà tím màng co', 25500, 'kg', 'eggplant', 'Co.op', 1000, 25500, None, None, None, None]"
   ]
  },
  {
   "cell_type": "markdown",
   "id": "e7d04863-990e-4c6d-8c34-c675ee74312d",
   "metadata": {},
   "source": [
    "*Note:* These row indices are based on the dataset version processed in this notebook. If any changes are made to the original datasets, the indices may no longer refer to the same items."
   ]
  },
  {
   "cell_type": "markdown",
   "id": "2b5ff929-91e6-407a-b72e-9a631dfc1560",
   "metadata": {},
   "source": [
    "Then, we correct issues with price normalization and product details (e.g., missing weight, incorrect volume)."
   ]
  },
  {
   "cell_type": "code",
   "execution_count": 6,
   "id": "c8c5b24b-3889-4e09-b78e-2e465fc59b20",
   "metadata": {},
   "outputs": [],
   "source": [
    "# manually fixing items that failed price normalization (all NaN values)\n",
    "all_products.loc[1660, 'weight'] = 100\n",
    "all_products.loc[1736, 'weight'] = 250\n",
    "all_products.loc[1800, 'volume'] = 500\n",
    "all_products.loc[1819, 'weight'] = 500\n",
    "\n",
    "# items that had normalized incorrectly (wrong quantity)\n",
    "all_products.loc[454, 'weight'] = 300\n",
    "all_products.loc[1890, 'number_of_units'] = 10\n",
    "all_products.loc[9, 'weight'] = 220\n",
    "all_products.loc[1988, 'volume'] = 600 # in reality, this is a pack of 3x200ml\n",
    "all_products.loc[1714, 'volume'] = 12000 # in reality, this is a pack of 24\n",
    "all_products.loc[1789, 'volume'] = 600 # in reality, this is a pack of 12\n",
    "all_products.loc[1792, 'volume'] = 750\n",
    "\n",
    "# some \"весовой\" items from Lenta were initially assumed to weigh 1kg, but I just missed the actual weight during extraction.\n",
    "# fixing those weights here\n",
    "all_products.loc[598, 'weight'] = 300\n",
    "all_products.loc[478, 'weight'] = 400\n",
    "all_products.loc[[446, 453, 456, 459, 460, 461, 462, 463, 464, 467, 468, 469, 476, 488, 599, 728, 731, 733], 'weight'] = 500\n",
    "all_products.loc[610, 'weight'] = 600\n",
    "all_products.loc[734, 'weight'] = 700\n",
    "all_products.loc[448, 'weight'] = 900\n",
    "all_products.loc[736, 'weight'] = 950\n",
    "all_products.loc[729, 'weight'] = 1200\n",
    "all_products.loc[[735, 1162], 'weight'] = 1400\n",
    "all_products.loc[[458, 1160], 'weight'] = 1500\n",
    "all_products.loc[730, 'weight'] = 1700\n",
    "all_products.loc[732, 'weight'] = 1900\n",
    "all_products.loc[455, 'weight'] = 2700\n",
    "all_products.loc[451, 'weight'] = 3000\n",
    "\n",
    "# adding missing weights for some tea products\n",
    "all_products.loc[[737, 739, 741, 742, 743, 744, 759, 760, 764, 771, 783, 784, 1097, 1003], 'weight'] = 200\n",
    "all_products.loc[[745, 781, 1053, 1015, 866], 'weight'] = 45\n",
    "all_products.loc[[746, 747, 752, 755, 756, 762, 763, 765, 767, 769, 779, 780, 782, 785, 1112, 1159, 961], 'weight'] = 50\n",
    "all_products.loc[[748, 1089], 'weight'] = 180\n",
    "all_products.loc[[753, 754, 772, 1118, 1149, 1038], 'weight'] = 37.5\n",
    "all_products.loc[[770, 773, 1024], 'weight'] = 36\n",
    "all_products.loc[[1471], 'weight'] = 100\n",
    "all_products.loc[[1133, 986, 898], 'weight'] = 40\n",
    "all_products.loc[[1123], 'weight'] = 24\n",
    "all_products.loc[[1107], 'weight'] = 42.5\n",
    "all_products.loc[[1075], 'weight'] = 27\n",
    "all_products.loc[[1064], 'weight'] = 150\n",
    "all_products.loc[[1058], 'weight'] = 34\n",
    "all_products.loc[[1044], 'weight'] = 170\n",
    "all_products.loc[[1020], 'weight'] = 170"
   ]
  },
  {
   "cell_type": "markdown",
   "id": "894469ae-2c52-443b-82b5-e2114a54c03b",
   "metadata": {},
   "source": [
    "### 4. Final Price Normalization"
   ]
  },
  {
   "cell_type": "markdown",
   "id": "1005b6d5-4bbd-4285-abd6-4ae339cc014c",
   "metadata": {},
   "source": [
    "Now that all manual quantity adjustments are complete, we recalculate normalized prices to reflect the corrected values."
   ]
  },
  {
   "cell_type": "code",
   "execution_count": 7,
   "id": "f987ebf1-1d88-4a41-b113-067ea702ed0d",
   "metadata": {},
   "outputs": [],
   "source": [
    "all_products.loc[all_products['weight'].notna(), 'price_kg'] = all_products['price'] / all_products['weight'] * 1000\n",
    "all_products.loc[all_products['number_of_units'].notna(), 'price_unit'] = all_products['price'] / all_products['number_of_units']\n",
    "all_products.loc[all_products['volume'].notna(), 'price_lit'] = all_products['price'] / all_products['volume'] * 1000"
   ]
  },
  {
   "cell_type": "markdown",
   "id": "270b0765-69a5-44b0-a63e-e61e63d73c41",
   "metadata": {},
   "source": [
    "Some additional adjustments are needed to fill remaining gaps.\n",
    "- All milk products must be expressed in liters, so missing volumes are estimated using average density (1.03 g/ml).\n",
    "- Teas without weight information are not useful for price comparison — a few were manually assigned weights, and the rest are dropped."
   ]
  },
  {
   "cell_type": "code",
   "execution_count": 8,
   "id": "a0dff52b-4269-4bcb-8829-725a15d073fe",
   "metadata": {},
   "outputs": [],
   "source": [
    "# convert milk weight to volume (density ≈ 1.03 g/ml)\n",
    "all_products.loc[(all_products['product_type'] == 'milk') & (all_products['volume'].isna()), 'volume'] = all_products['weight'] / 1.03\n",
    "all_products.loc[all_products['volume'].notna(), 'price_lit'] = all_products['price'] / all_products['volume'] * 1000\n",
    "# drop tea entries without weight (some were manually filled in earlier)\n",
    "all_products = all_products.loc[~((all_products['product_type'].isin(['black_tea', 'green_tea'])) & (all_products['weight'].isna()))]"
   ]
  },
  {
   "cell_type": "markdown",
   "id": "03748ee7-5da1-4fdf-988e-bd15dc6a6d61",
   "metadata": {},
   "source": [
    "### 5. Final Cleanup and Formatting"
   ]
  },
  {
   "cell_type": "markdown",
   "id": "27125245-b8c6-4373-a2d9-969beb616ef4",
   "metadata": {},
   "source": [
    "Each product type will be compared using a single relevant price metric: for example, rice and vegetables by price_kg, water by price_lit, and eggs by price_unit. To avoid confusion in later analysis, we now remove irrelevant values from quantity-related columns — e.g., clearing weight and price_kg for liquids, or number_of_units for buckwheat.\n",
    "\n",
    "We also create a new DataFrame for the cleaned version."
   ]
  },
  {
   "cell_type": "code",
   "execution_count": 9,
   "id": "5f4ffb59-c3e3-4f93-b4a9-363a7ba6a6e8",
   "metadata": {},
   "outputs": [],
   "source": [
    "clean_products = all_products\n",
    "\n",
    "# correspond product types and metrics \n",
    "unit_types = ['egg']\n",
    "volume_types = ['water', 'sunflower_oil', 'soybean_oil', 'milk', 'fish_sauce']\n",
    "weight_items = ~clean_products['product_type'].isin(unit_types + volume_types)\n",
    "\n",
    "# set None to irrelevant fields based on product_type\n",
    "clean_products.loc[clean_products['product_type'].isin(unit_types), ['weight', 'price_kg', 'volume', 'price_lit']] = None\n",
    "clean_products.loc[clean_products['product_type'].isin(volume_types), ['weight', 'price_kg', 'number_of_units', 'price_unit']] = None\n",
    "clean_products.loc[weight_items, ['volume', 'price_lit', 'number_of_units', 'price_unit']] = None"
   ]
  },
  {
   "cell_type": "markdown",
   "id": "40f18374-ac9f-4f5b-b348-8a69a4f9cd77",
   "metadata": {},
   "source": [
    "Next, we convert all prices to USD for consistent comparison. Since exchange rates can fluctuate — especially the ruble — we use the average for the month preceding data collection (February 7 to March 7).\n",
    "(Source: *exchange-rates.org*)"
   ]
  },
  {
   "cell_type": "code",
   "execution_count": 10,
   "id": "86530bb4-b471-419b-9967-0380b2f69263",
   "metadata": {},
   "outputs": [],
   "source": [
    "# save the dataset with prices in local currencies as a backup\n",
    "clean_products.to_csv(f'clean_products-2025-03-12-local.csv')\n",
    "\n",
    "rub_to_usd = 0.011056\n",
    "vnd_to_usd = 0.000039214\n",
    "\n",
    "clean_products.loc[clean_products['supermarket'].isin(['Pyaterochka', 'Lenta']), ['price','price_kg', 'price_unit', 'price_lit']] *= rub_to_usd\n",
    "clean_products.loc[clean_products['supermarket'].isin(['Winmart', 'Co.op']), ['price','price_kg', 'price_unit', 'price_lit']] *= vnd_to_usd"
   ]
  },
  {
   "cell_type": "markdown",
   "id": "43fb06e2-4a5b-452c-a141-477dc22a41e6",
   "metadata": {},
   "source": [
    "Finally, we save the cleaned dataset to a new file."
   ]
  },
  {
   "cell_type": "code",
   "execution_count": 11,
   "id": "852799ee-3875-4e0b-ba79-08a147ab3905",
   "metadata": {},
   "outputs": [],
   "source": [
    "clean_products.to_csv(f'clean_products-2025-03-12-usd.csv')"
   ]
  }
 ],
 "metadata": {
  "kernelspec": {
   "display_name": "Python 3 (ipykernel)",
   "language": "python",
   "name": "python3"
  },
  "language_info": {
   "codemirror_mode": {
    "name": "ipython",
    "version": 3
   },
   "file_extension": ".py",
   "mimetype": "text/x-python",
   "name": "python",
   "nbconvert_exporter": "python",
   "pygments_lexer": "ipython3",
   "version": "3.10.11"
  }
 },
 "nbformat": 4,
 "nbformat_minor": 5
}
